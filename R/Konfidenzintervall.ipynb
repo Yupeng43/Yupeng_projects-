{
 "cells": [
  {
   "cell_type": "markdown",
   "id": "907abc08-6e46-4b56-ae8f-60bc497fa895",
   "metadata": {},
   "source": [
    "Ziehen eine ( einfache ) Stichprobe von n = 6 Schweinen und wiegen diese. Man kann davon ausgehen, dass X:\"Gewicht eines Schweins\" eine normalverteilte Zufallsvariable ist.\n",
    "Angenommen man wüsste, dass das Gewicht eines Schweins normalverteilt ist mit\n",
    "μ = 100 und σ^2 = 6.\n",
    "\n",
    "Jetzt wird das Schätzintervall für $μ$ mit $1 - \\alpha = 0.95 $ gesucht"
   ]
  },
  {
   "cell_type": "code",
   "execution_count": 4,
   "id": "dd47e673-2ca8-4dda-8eee-f2ece893222b",
   "metadata": {},
   "outputs": [],
   "source": [
    "# einfache Stichprobe vom Umfang n =6 \n",
    "set.seed(1)\n",
    "Stichprobe<-rnorm(n=6,mean=100,sd=sqrt(6))"
   ]
  },
  {
   "cell_type": "code",
   "execution_count": 13,
   "id": "2ae38708-a400-4d9d-bbf1-e6220f440318",
   "metadata": {},
   "outputs": [
    {
     "data": {
      "text/html": [
       "99.9289162530245"
      ],
      "text/latex": [
       "99.9289162530245"
      ],
      "text/markdown": [
       "99.9289162530245"
      ],
      "text/plain": [
       "[1] 99.92892"
      ]
     },
     "metadata": {},
     "output_type": "display_data"
    },
    {
     "data": {
      "text/html": [
       "5.33526732601503"
      ],
      "text/latex": [
       "5.33526732601503"
      ],
      "text/markdown": [
       "5.33526732601503"
      ],
      "text/plain": [
       "[1] 5.335267"
      ]
     },
     "metadata": {},
     "output_type": "display_data"
    }
   ],
   "source": [
    "#erwartungstreue Punktschätzungen\n",
    "m<-mean(Stichprobe)\n",
    "s<-var(Stichprobe)\n",
    "m\n",
    "s"
   ]
  },
  {
   "cell_type": "markdown",
   "id": "acb2b828-387c-4a98-9068-ae65af7ee431",
   "metadata": {},
   "source": [
    "# Falls 1:  Normalverteilt mit bekannten Varianz (n<30)"
   ]
  },
  {
   "cell_type": "code",
   "execution_count": 14,
   "id": "d2f7bfc0-ffd7-4d96-9ade-d0ba47ddcab3",
   "metadata": {},
   "outputs": [
    {
     "data": {
      "text/html": [
       "97.9689522684844"
      ],
      "text/latex": [
       "97.9689522684844"
      ],
      "text/markdown": [
       "97.9689522684844"
      ],
      "text/plain": [
       "[1] 97.96895"
      ]
     },
     "metadata": {},
     "output_type": "display_data"
    },
    {
     "data": {
      "text/html": [
       "101.888880237565"
      ],
      "text/latex": [
       "101.888880237565"
      ],
      "text/markdown": [
       "101.888880237565"
      ],
      "text/plain": [
       "[1] 101.8889"
      ]
     },
     "metadata": {},
     "output_type": "display_data"
    }
   ],
   "source": [
    "\n",
    "sigma1<-sqrt(6)\n",
    "N<-6\n",
    "lower<-m-qnorm(p=0.975)*sigma1/sqrt(N)\n",
    "upper<-m+qnorm(p=0.975)*sigma1/sqrt(N)\n",
    "lower\n",
    "upper\n",
    "\n"
   ]
  },
  {
   "cell_type": "markdown",
   "id": "3e5b89f7-cc61-407b-bdc6-9dda7e1763e6",
   "metadata": {},
   "source": [
    "Interpretation :  Wenn ein Konfidenzintervall von 95 % angegeben wird, bedeutet dies, dass bei unzähligen Wiederholungen der Stichprobenziehung etwa 95 % der berechneten Intervalle den wahren Wert des Parameters enthalten werden."
   ]
  },
  {
   "cell_type": "code",
   "execution_count": 15,
   "id": "c70ea528-6c15-4713-9289-4a39a3b99cf2",
   "metadata": {},
   "outputs": [
    {
     "data": {
      "text/html": [
       "<table>\n",
       "<thead><tr><th scope=col>V1</th><th scope=col>V2</th><th scope=col>V3</th><th scope=col>V4</th><th scope=col>V5</th><th scope=col>V6</th><th scope=col>mean</th><th scope=col>lower</th><th scope=col>upper</th><th scope=col>mu</th><th scope=col>enthalten</th></tr></thead>\n",
       "<tbody>\n",
       "\t<tr><td>100.31511</td><td>99.41123 </td><td> 98.45768</td><td> 99.69129</td><td>101.80882</td><td> 97.33773</td><td> 99.50364</td><td>97.54368 </td><td>101.4636 </td><td>100      </td><td>1        </td></tr>\n",
       "\t<tr><td> 97.57257</td><td>99.82115 </td><td> 98.47513</td><td> 99.59876</td><td>101.97613</td><td>104.06018</td><td>100.25065</td><td>98.29069 </td><td>102.2106 </td><td>100      </td><td>1        </td></tr>\n",
       "\t<tr><td>105.32346</td><td>99.42151 </td><td> 99.77449</td><td>100.08137</td><td>100.06082</td><td>102.05497</td><td>101.11944</td><td>99.15947 </td><td>103.0794 </td><td>100      </td><td>1        </td></tr>\n",
       "\t<tr><td> 97.24466</td><td>98.69182 </td><td>103.77073</td><td> 98.92136</td><td> 96.20551</td><td>103.85095</td><td> 99.78084</td><td>97.82088 </td><td>101.7408 </td><td>100      </td><td>1        </td></tr>\n",
       "\t<tr><td>101.91589</td><td>97.63962 </td><td>103.23859</td><td>103.95127</td><td>101.53808</td><td> 98.66787</td><td>101.15856</td><td>99.19859 </td><td>103.1185 </td><td>100      </td><td>1        </td></tr>\n",
       "\t<tr><td>100.84717</td><td>97.96936 </td><td> 95.51186</td><td>100.89698</td><td>103.90187</td><td>102.09306</td><td>100.20338</td><td>98.24342 </td><td>102.1633 </td><td>100      </td><td>1        </td></tr>\n",
       "</tbody>\n",
       "</table>\n"
      ],
      "text/latex": [
       "\\begin{tabular}{r|lllllllllll}\n",
       " V1 & V2 & V3 & V4 & V5 & V6 & mean & lower & upper & mu & enthalten\\\\\n",
       "\\hline\n",
       "\t 100.31511 & 99.41123  &  98.45768 &  99.69129 & 101.80882 &  97.33773 &  99.50364 & 97.54368  & 101.4636  & 100       & 1        \\\\\n",
       "\t  97.57257 & 99.82115  &  98.47513 &  99.59876 & 101.97613 & 104.06018 & 100.25065 & 98.29069  & 102.2106  & 100       & 1        \\\\\n",
       "\t 105.32346 & 99.42151  &  99.77449 & 100.08137 & 100.06082 & 102.05497 & 101.11944 & 99.15947  & 103.0794  & 100       & 1        \\\\\n",
       "\t  97.24466 & 98.69182  & 103.77073 &  98.92136 &  96.20551 & 103.85095 &  99.78084 & 97.82088  & 101.7408  & 100       & 1        \\\\\n",
       "\t 101.91589 & 97.63962  & 103.23859 & 103.95127 & 101.53808 &  98.66787 & 101.15856 & 99.19859  & 103.1185  & 100       & 1        \\\\\n",
       "\t 100.84717 & 97.96936  &  95.51186 & 100.89698 & 103.90187 & 102.09306 & 100.20338 & 98.24342  & 102.1633  & 100       & 1        \\\\\n",
       "\\end{tabular}\n"
      ],
      "text/markdown": [
       "\n",
       "| V1 | V2 | V3 | V4 | V5 | V6 | mean | lower | upper | mu | enthalten |\n",
       "|---|---|---|---|---|---|---|---|---|---|---|\n",
       "| 100.31511 | 99.41123  |  98.45768 |  99.69129 | 101.80882 |  97.33773 |  99.50364 | 97.54368  | 101.4636  | 100       | 1         |\n",
       "|  97.57257 | 99.82115  |  98.47513 |  99.59876 | 101.97613 | 104.06018 | 100.25065 | 98.29069  | 102.2106  | 100       | 1         |\n",
       "| 105.32346 | 99.42151  |  99.77449 | 100.08137 | 100.06082 | 102.05497 | 101.11944 | 99.15947  | 103.0794  | 100       | 1         |\n",
       "|  97.24466 | 98.69182  | 103.77073 |  98.92136 |  96.20551 | 103.85095 |  99.78084 | 97.82088  | 101.7408  | 100       | 1         |\n",
       "| 101.91589 | 97.63962  | 103.23859 | 103.95127 | 101.53808 |  98.66787 | 101.15856 | 99.19859  | 103.1185  | 100       | 1         |\n",
       "| 100.84717 | 97.96936  |  95.51186 | 100.89698 | 103.90187 | 102.09306 | 100.20338 | 98.24342  | 102.1633  | 100       | 1         |\n",
       "\n"
      ],
      "text/plain": [
       "  V1        V2       V3        V4        V5        V6        mean      lower   \n",
       "1 100.31511 99.41123  98.45768  99.69129 101.80882  97.33773  99.50364 97.54368\n",
       "2  97.57257 99.82115  98.47513  99.59876 101.97613 104.06018 100.25065 98.29069\n",
       "3 105.32346 99.42151  99.77449 100.08137 100.06082 102.05497 101.11944 99.15947\n",
       "4  97.24466 98.69182 103.77073  98.92136  96.20551 103.85095  99.78084 97.82088\n",
       "5 101.91589 97.63962 103.23859 103.95127 101.53808  98.66787 101.15856 99.19859\n",
       "6 100.84717 97.96936  95.51186 100.89698 103.90187 102.09306 100.20338 98.24342\n",
       "  upper    mu  enthalten\n",
       "1 101.4636 100 1        \n",
       "2 102.2106 100 1        \n",
       "3 103.0794 100 1        \n",
       "4 101.7408 100 1        \n",
       "5 103.1185 100 1        \n",
       "6 102.1633 100 1        "
      ]
     },
     "metadata": {},
     "output_type": "display_data"
    }
   ],
   "source": [
    "# Simulation mit n=1000\n",
    "n=1000\n",
    "r<-replicate(n,rnorm(n=6,mean=100,sd=sqrt(6)))\n",
    "df<-as.data.frame(t(r))\n",
    "\n",
    "df$mean <-rowMeans(df)\n",
    "df$lower<-df$mean-qnorm(p=0.975)*sqrt(6)/sqrt(6)\n",
    "df$upper<-df$mean+qnorm(p=0.975)*sqrt(6)/sqrt(6)\n",
    "df$mu <- 100\n",
    "df$enthalten<-mapply(function(a,b,c) if (a<c & c<b) 1 else 0,df$lower,df$upper,df$mu)\n",
    "head(df)"
   ]
  },
  {
   "cell_type": "code",
   "execution_count": 16,
   "id": "c1179348-fec7-4178-a15e-d7d071670af3",
   "metadata": {},
   "outputs": [
    {
     "data": {
      "text/html": [
       "0.951"
      ],
      "text/latex": [
       "0.951"
      ],
      "text/markdown": [
       "0.951"
      ],
      "text/plain": [
       "[1] 0.951"
      ]
     },
     "metadata": {},
     "output_type": "display_data"
    }
   ],
   "source": [
    "sum(df$enthalten)/1000"
   ]
  },
  {
   "cell_type": "code",
   "execution_count": 17,
   "id": "ae8d7df6-19f9-4e76-938a-418a2ec9957d",
   "metadata": {},
   "outputs": [
    {
     "data": {
      "text/html": [
       "0.95093"
      ],
      "text/latex": [
       "0.95093"
      ],
      "text/markdown": [
       "0.95093"
      ],
      "text/plain": [
       "[1] 0.95093"
      ]
     },
     "metadata": {},
     "output_type": "display_data"
    }
   ],
   "source": [
    "## Der Wert nähert sich immer weiter (1-alpha)=0.95 an.\n",
    "n=100000\n",
    "r<-replicate(n,rnorm(n=6,mean=100,sd=sqrt(6)))\n",
    "df<-as.data.frame(t(r))\n",
    "\n",
    "df$mean <-rowMeans(df)\n",
    "df$lower<-df$mean-qnorm(p=0.975)*sqrt(6)/sqrt(6)\n",
    "df$upper<-df$mean+qnorm(p=0.975)*sqrt(6)/sqrt(6)\n",
    "df$mu <- 100\n",
    "df$enthalten<-mapply(function(a,b,c) if (a<=c & c<=b) 1 else 0,df$lower,df$upper,df$mu)\n",
    "\n",
    "sum(df$enthalten)/n\n"
   ]
  },
  {
   "cell_type": "markdown",
   "id": "d43a1c33-6ee2-4eea-8349-e4421dfece47",
   "metadata": {},
   "source": [
    "# Falls 2: Normalverteilt mit unbekannten Varianz (n<30)"
   ]
  },
  {
   "cell_type": "code",
   "execution_count": 18,
   "id": "dbb52980-9575-4d36-9a19-f002d3c42f65",
   "metadata": {},
   "outputs": [
    {
     "data": {
      "text/html": [
       "94.3298965727317"
      ],
      "text/latex": [
       "94.3298965727317"
      ],
      "text/markdown": [
       "94.3298965727317"
      ],
      "text/plain": [
       "[1] 94.3299"
      ]
     },
     "metadata": {},
     "output_type": "display_data"
    },
    {
     "data": {
      "text/html": [
       "105.527935933317"
      ],
      "text/latex": [
       "105.527935933317"
      ],
      "text/markdown": [
       "105.527935933317"
      ],
      "text/plain": [
       "[1] 105.5279"
      ]
     },
     "metadata": {},
     "output_type": "display_data"
    }
   ],
   "source": [
    "lower<-m-qt(p=0.975,df=N-1)*s/sqrt(N)\n",
    "upper<-m+qt(p=0.975,df=N-1)*s/sqrt(N)\n",
    "lower\n",
    "upper"
   ]
  },
  {
   "cell_type": "markdown",
   "id": "0965bfcf-8e70-467a-8ae1-85e10cc3da62",
   "metadata": {},
   "source": [
    "# Falls 3: Normalverteilt mit unbekannten Varianz (n>30)"
   ]
  },
  {
   "cell_type": "code",
   "execution_count": 19,
   "id": "a6af2e1d-6c41-4ad8-9fca-de35437bf00a",
   "metadata": {},
   "outputs": [
    {
     "data": {
      "text/html": [
       "95.6598917193674"
      ],
      "text/latex": [
       "95.6598917193674"
      ],
      "text/markdown": [
       "95.6598917193674"
      ],
      "text/plain": [
       "[1] 95.65989"
      ]
     },
     "metadata": {},
     "output_type": "display_data"
    },
    {
     "data": {
      "text/html": [
       "104.197940786682"
      ],
      "text/latex": [
       "104.197940786682"
      ],
      "text/markdown": [
       "104.197940786682"
      ],
      "text/plain": [
       "[1] 104.1979"
      ]
     },
     "metadata": {},
     "output_type": "display_data"
    }
   ],
   "source": [
    "lower<-m-qnorm(p=0.975)*s/sqrt(N)\n",
    "upper<-m+qnorm(p=0.975)*s/sqrt(N)\n",
    "lower\n",
    "upper"
   ]
  },
  {
   "cell_type": "markdown",
   "id": "e2d01b24-eada-43c2-933f-ac8b6f391f30",
   "metadata": {},
   "source": [
    "# Falls 4: Unbekannte Verteilung mit bekannten Varianz (n>30)"
   ]
  },
  {
   "cell_type": "code",
   "execution_count": 21,
   "id": "d67a0301-0774-4a5b-b206-3e996aaf26bd",
   "metadata": {},
   "outputs": [
    {
     "data": {
      "text/html": [
       "97.9689522684844"
      ],
      "text/latex": [
       "97.9689522684844"
      ],
      "text/markdown": [
       "97.9689522684844"
      ],
      "text/plain": [
       "[1] 97.96895"
      ]
     },
     "metadata": {},
     "output_type": "display_data"
    },
    {
     "data": {
      "text/html": [
       "101.888880237565"
      ],
      "text/latex": [
       "101.888880237565"
      ],
      "text/markdown": [
       "101.888880237565"
      ],
      "text/plain": [
       "[1] 101.8889"
      ]
     },
     "metadata": {},
     "output_type": "display_data"
    }
   ],
   "source": [
    "# Mit ZGS\n",
    "lower<-m-qnorm(p=0.975)*sigma1/sqrt(N)\n",
    "upper<-m+qnorm(p=0.975)*sigma1/sqrt(N)\n",
    "lower\n",
    "upper"
   ]
  },
  {
   "cell_type": "markdown",
   "id": "83d9dd66-fdb1-4707-95d3-89adecc7c130",
   "metadata": {},
   "source": [
    "# Falls 5: Unbekannte Verteilung mit unbekannten Varianz (n>30)"
   ]
  },
  {
   "cell_type": "code",
   "execution_count": 22,
   "id": "5158da38-a580-4a5e-8d34-111edd49f5ec",
   "metadata": {},
   "outputs": [
    {
     "data": {
      "text/html": [
       "95.6598917193674"
      ],
      "text/latex": [
       "95.6598917193674"
      ],
      "text/markdown": [
       "95.6598917193674"
      ],
      "text/plain": [
       "[1] 95.65989"
      ]
     },
     "metadata": {},
     "output_type": "display_data"
    },
    {
     "data": {
      "text/html": [
       "104.197940786682"
      ],
      "text/latex": [
       "104.197940786682"
      ],
      "text/markdown": [
       "104.197940786682"
      ],
      "text/plain": [
       "[1] 104.1979"
      ]
     },
     "metadata": {},
     "output_type": "display_data"
    }
   ],
   "source": [
    "# Mit ZGS\n",
    "lower<-m-qnorm(p=0.975)*s/sqrt(N)\n",
    "upper<-m+qnorm(p=0.975)*s/sqrt(N)\n",
    "lower\n",
    "upper"
   ]
  },
  {
   "cell_type": "markdown",
   "id": "2d9e4684-6b8a-402b-a777-5b9a3753457d",
   "metadata": {},
   "source": [
    "# Spezialfall: Konfidenzintervall für den Anteilswert π"
   ]
  },
  {
   "cell_type": "code",
   "execution_count": 27,
   "id": "dd9ef5d9-8190-448b-88c5-d5d73a304cb8",
   "metadata": {},
   "outputs": [
    {
     "data": {
      "text/html": [
       "2"
      ],
      "text/latex": [
       "2"
      ],
      "text/markdown": [
       "2"
      ],
      "text/plain": [
       "[1] 2"
      ]
     },
     "metadata": {},
     "output_type": "display_data"
    }
   ],
   "source": [
    "n<-10\n",
    "pi<-0.3\n",
    "set.seed(1)\n",
    "x<-rbinom(1,n,pi)\n",
    "x"
   ]
  },
  {
   "cell_type": "code",
   "execution_count": 28,
   "id": "0fc4b0cc-8108-4c4a-94ba-6fe434182d6c",
   "metadata": {},
   "outputs": [
    {
     "data": {
      "text/html": [
       "-0.0479180129218246"
      ],
      "text/latex": [
       "-0.0479180129218246"
      ],
      "text/markdown": [
       "-0.0479180129218246"
      ],
      "text/plain": [
       "[1] -0.04791801"
      ]
     },
     "metadata": {},
     "output_type": "display_data"
    },
    {
     "data": {
      "text/html": [
       "0.447918012921825"
      ],
      "text/latex": [
       "0.447918012921825"
      ],
      "text/markdown": [
       "0.447918012921825"
      ],
      "text/plain": [
       "[1] 0.447918"
      ]
     },
     "metadata": {},
     "output_type": "display_data"
    }
   ],
   "source": [
    "m<-x/n\n",
    "v<-sqrt(m*(1-m))\n",
    "lower<-m-qnorm(p=0.975)*v/sqrt(n)\n",
    "upper<-m+qnorm(p=0.975)*v/sqrt(n)\n",
    "lower \n",
    "upper"
   ]
  },
  {
   "cell_type": "code",
   "execution_count": null,
   "id": "f1e03dee-8680-49ca-b2b1-6fd80f670b20",
   "metadata": {},
   "outputs": [],
   "source": []
  }
 ],
 "metadata": {
  "kernelspec": {
   "display_name": "R",
   "language": "R",
   "name": "ir"
  },
  "language_info": {
   "codemirror_mode": "r",
   "file_extension": ".r",
   "mimetype": "text/x-r-source",
   "name": "R",
   "pygments_lexer": "r",
   "version": "3.6.1"
  }
 },
 "nbformat": 4,
 "nbformat_minor": 5
}
