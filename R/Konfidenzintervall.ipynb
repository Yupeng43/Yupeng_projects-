{
 "cells": [
  {
   "cell_type": "markdown",
   "id": "907abc08-6e46-4b56-ae8f-60bc497fa895",
   "metadata": {},
   "source": [
    "Ziehen eine ( einfache ) Stichprobe von n = 6 Schweinen und wiegen diese. Man kann davon ausgehen, dass X:\"Gewicht eines Schweins\" eine normalverteilte Zufallsvariable ist."
   ]
  },
  {
   "cell_type": "code",
   "execution_count": 84,
   "id": "dd47e673-2ca8-4dda-8eee-f2ece893222b",
   "metadata": {},
   "outputs": [],
   "source": [
    "# einfache Stichprobe vom Umfang n =6 \n",
    "#Angenommen man wüsste, dass das Gewicht eines Schweins normalverteilt ist mit\n",
    "#μ = 100 und σ^2 = 6.\n",
    "set.seed(1)\n",
    "Stichprobe<-rnorm(n=6,mean=100,sd=sqrt(6))"
   ]
  },
  {
   "cell_type": "code",
   "execution_count": 85,
   "id": "2ae38708-a400-4d9d-bbf1-e6220f440318",
   "metadata": {},
   "outputs": [
    {
     "data": {
      "text/html": [
       "99.9289162530245"
      ],
      "text/latex": [
       "99.9289162530245"
      ],
      "text/markdown": [
       "99.9289162530245"
      ],
      "text/plain": [
       "[1] 99.92892"
      ]
     },
     "metadata": {},
     "output_type": "display_data"
    },
    {
     "data": {
      "text/html": [
       "5.33526732601503"
      ],
      "text/latex": [
       "5.33526732601503"
      ],
      "text/markdown": [
       "5.33526732601503"
      ],
      "text/plain": [
       "[1] 5.335267"
      ]
     },
     "metadata": {},
     "output_type": "display_data"
    }
   ],
   "source": [
    "#erwartungstreue Punktschätzungen\n",
    "m<-mean(Stichprobe)\n",
    "v<-var(Stichprobe)\n",
    "m\n",
    "v"
   ]
  },
  {
   "cell_type": "markdown",
   "id": "acb2b828-387c-4a98-9068-ae65af7ee431",
   "metadata": {},
   "source": [
    "Schätzintervall für $μ$ mit $1 - \\alpha = 0.95 $"
   ]
  },
  {
   "cell_type": "code",
   "execution_count": 86,
   "id": "30b58da9-66fb-4724-b498-c49b54c7331d",
   "metadata": {},
   "outputs": [
    {
     "data": {
      "text/html": [
       "97.9689522684844"
      ],
      "text/latex": [
       "97.9689522684844"
      ],
      "text/markdown": [
       "97.9689522684844"
      ],
      "text/plain": [
       "[1] 97.96895"
      ]
     },
     "metadata": {},
     "output_type": "display_data"
    },
    {
     "data": {
      "text/html": [
       "101.888880237565"
      ],
      "text/latex": [
       "101.888880237565"
      ],
      "text/markdown": [
       "101.888880237565"
      ],
      "text/plain": [
       "[1] 101.8889"
      ]
     },
     "metadata": {},
     "output_type": "display_data"
    }
   ],
   "source": [
    "lower<-m-qnorm(p=0.975)*sqrt(6)/sqrt(6)\n",
    "upper<-m+qnorm(p=0.975)*sqrt(6)/sqrt(6)\n",
    "lower\n",
    "upper"
   ]
  },
  {
   "cell_type": "code",
   "execution_count": 87,
   "id": "c5607cd6-3be6-4f1e-962c-f85ed47fc041",
   "metadata": {},
   "outputs": [
    {
     "data": {
      "text/html": [
       "<table>\n",
       "<thead><tr><th scope=col>V1</th><th scope=col>V2</th><th scope=col>V3</th><th scope=col>V4</th><th scope=col>V5</th><th scope=col>V6</th><th scope=col>mean</th><th scope=col>lower</th><th scope=col>upper</th><th scope=col>mu</th><th scope=col>enthalten</th></tr></thead>\n",
       "<tbody>\n",
       "\t<tr><td>101.19395</td><td>101.80852</td><td>101.41037</td><td> 99.25195</td><td>103.70309</td><td>100.95492</td><td>101.38713</td><td>99.42717 </td><td>103.3471 </td><td>100      </td><td>1        </td></tr>\n",
       "\t<tr><td> 98.47828</td><td> 94.57512</td><td>102.75551</td><td> 99.88994</td><td> 99.96034</td><td>102.31192</td><td> 99.66185</td><td>97.70189 </td><td>101.6218 </td><td>100      </td><td>1        </td></tr>\n",
       "\t<tr><td>102.01157</td><td>101.45476</td><td>102.25103</td><td>101.91583</td><td>100.18265</td><td> 95.12710</td><td>100.49049</td><td>98.53053 </td><td>102.4505 </td><td>100      </td><td>1        </td></tr>\n",
       "\t<tr><td>101.51826</td><td> 99.86251</td><td> 99.61838</td><td> 96.39741</td><td> 98.82878</td><td>101.02374</td><td> 99.54151</td><td>97.58155 </td><td>101.5015 </td><td>100      </td><td>1        </td></tr>\n",
       "\t<tr><td>103.32807</td><td> 99.74822</td><td>100.94960</td><td> 99.86821</td><td> 96.62691</td><td> 98.98348</td><td> 99.91741</td><td>97.95745 </td><td>101.8774 </td><td>100      </td><td>1        </td></tr>\n",
       "\t<tr><td> 99.03419</td><td> 99.85471</td><td>102.69450</td><td>101.86939</td><td> 99.59700</td><td> 99.37939</td><td>100.40486</td><td>98.44490 </td><td>102.3648 </td><td>100      </td><td>1        </td></tr>\n",
       "</tbody>\n",
       "</table>\n"
      ],
      "text/latex": [
       "\\begin{tabular}{r|lllllllllll}\n",
       " V1 & V2 & V3 & V4 & V5 & V6 & mean & lower & upper & mu & enthalten\\\\\n",
       "\\hline\n",
       "\t 101.19395 & 101.80852 & 101.41037 &  99.25195 & 103.70309 & 100.95492 & 101.38713 & 99.42717  & 103.3471  & 100       & 1        \\\\\n",
       "\t  98.47828 &  94.57512 & 102.75551 &  99.88994 &  99.96034 & 102.31192 &  99.66185 & 97.70189  & 101.6218  & 100       & 1        \\\\\n",
       "\t 102.01157 & 101.45476 & 102.25103 & 101.91583 & 100.18265 &  95.12710 & 100.49049 & 98.53053  & 102.4505  & 100       & 1        \\\\\n",
       "\t 101.51826 &  99.86251 &  99.61838 &  96.39741 &  98.82878 & 101.02374 &  99.54151 & 97.58155  & 101.5015  & 100       & 1        \\\\\n",
       "\t 103.32807 &  99.74822 & 100.94960 &  99.86821 &  96.62691 &  98.98348 &  99.91741 & 97.95745  & 101.8774  & 100       & 1        \\\\\n",
       "\t  99.03419 &  99.85471 & 102.69450 & 101.86939 &  99.59700 &  99.37939 & 100.40486 & 98.44490  & 102.3648  & 100       & 1        \\\\\n",
       "\\end{tabular}\n"
      ],
      "text/markdown": [
       "\n",
       "| V1 | V2 | V3 | V4 | V5 | V6 | mean | lower | upper | mu | enthalten |\n",
       "|---|---|---|---|---|---|---|---|---|---|---|\n",
       "| 101.19395 | 101.80852 | 101.41037 |  99.25195 | 103.70309 | 100.95492 | 101.38713 | 99.42717  | 103.3471  | 100       | 1         |\n",
       "|  98.47828 |  94.57512 | 102.75551 |  99.88994 |  99.96034 | 102.31192 |  99.66185 | 97.70189  | 101.6218  | 100       | 1         |\n",
       "| 102.01157 | 101.45476 | 102.25103 | 101.91583 | 100.18265 |  95.12710 | 100.49049 | 98.53053  | 102.4505  | 100       | 1         |\n",
       "| 101.51826 |  99.86251 |  99.61838 |  96.39741 |  98.82878 | 101.02374 |  99.54151 | 97.58155  | 101.5015  | 100       | 1         |\n",
       "| 103.32807 |  99.74822 | 100.94960 |  99.86821 |  96.62691 |  98.98348 |  99.91741 | 97.95745  | 101.8774  | 100       | 1         |\n",
       "|  99.03419 |  99.85471 | 102.69450 | 101.86939 |  99.59700 |  99.37939 | 100.40486 | 98.44490  | 102.3648  | 100       | 1         |\n",
       "\n"
      ],
      "text/plain": [
       "  V1        V2        V3        V4        V5        V6        mean     \n",
       "1 101.19395 101.80852 101.41037  99.25195 103.70309 100.95492 101.38713\n",
       "2  98.47828  94.57512 102.75551  99.88994  99.96034 102.31192  99.66185\n",
       "3 102.01157 101.45476 102.25103 101.91583 100.18265  95.12710 100.49049\n",
       "4 101.51826  99.86251  99.61838  96.39741  98.82878 101.02374  99.54151\n",
       "5 103.32807  99.74822 100.94960  99.86821  96.62691  98.98348  99.91741\n",
       "6  99.03419  99.85471 102.69450 101.86939  99.59700  99.37939 100.40486\n",
       "  lower    upper    mu  enthalten\n",
       "1 99.42717 103.3471 100 1        \n",
       "2 97.70189 101.6218 100 1        \n",
       "3 98.53053 102.4505 100 1        \n",
       "4 97.58155 101.5015 100 1        \n",
       "5 97.95745 101.8774 100 1        \n",
       "6 98.44490 102.3648 100 1        "
      ]
     },
     "metadata": {},
     "output_type": "display_data"
    }
   ],
   "source": [
    "#\n",
    "n=1000\n",
    "r<-replicate(n,rnorm(n=6,mean=100,sd=sqrt(6)))\n",
    "df<-as.data.frame(t(r))\n",
    "\n",
    "df$mean <-rowMeans(df)\n",
    "df$lower<-df$mean-qnorm(p=0.975)*sqrt(6)/sqrt(6)\n",
    "df$upper<-df$mean+qnorm(p=0.975)*sqrt(6)/sqrt(6)\n",
    "df$mu <- 100\n",
    "df$enthalten<-mapply(function(a,b,c) if (a<c & c<b) 1 else 0,df$lower,df$upper,df$mu)\n",
    "head(df)"
   ]
  },
  {
   "cell_type": "code",
   "execution_count": 88,
   "id": "c1179348-fec7-4178-a15e-d7d071670af3",
   "metadata": {},
   "outputs": [
    {
     "data": {
      "text/html": [
       "0.933"
      ],
      "text/latex": [
       "0.933"
      ],
      "text/markdown": [
       "0.933"
      ],
      "text/plain": [
       "[1] 0.933"
      ]
     },
     "metadata": {},
     "output_type": "display_data"
    }
   ],
   "source": [
    "sum(df$enthalten)/1000"
   ]
  },
  {
   "cell_type": "code",
   "execution_count": 89,
   "id": "ae8d7df6-19f9-4e76-938a-418a2ec9957d",
   "metadata": {},
   "outputs": [
    {
     "data": {
      "text/html": [
       "0.95063"
      ],
      "text/latex": [
       "0.95063"
      ],
      "text/markdown": [
       "0.95063"
      ],
      "text/plain": [
       "[1] 0.95063"
      ]
     },
     "metadata": {},
     "output_type": "display_data"
    }
   ],
   "source": [
    "## Der Wert nähert sich immer weiter (1-alpha)=0.95 an.\n",
    "n=100000\n",
    "r<-replicate(n,rnorm(n=6,mean=100,sd=sqrt(6)))\n",
    "df<-as.data.frame(t(r))\n",
    "\n",
    "df$mean <-rowMeans(df)\n",
    "df$lower<-df$mean-qnorm(p=0.975)*sqrt(6)/sqrt(6)\n",
    "df$upper<-df$mean+qnorm(p=0.975)*sqrt(6)/sqrt(6)\n",
    "df$mu <- 100\n",
    "df$enthalten<-mapply(function(a,b,c) if (a<=c & c<=b) 1 else 0,df$lower,df$upper,df$mu)\n",
    "\n",
    "sum(df$enthalten)/n\n"
   ]
  },
  {
   "cell_type": "code",
   "execution_count": null,
   "id": "a267803c-11f6-4b7f-8c33-30672c4b21ea",
   "metadata": {},
   "outputs": [],
   "source": []
  },
  {
   "cell_type": "code",
   "execution_count": null,
   "id": "90aa3598-2fce-4c87-b7aa-8ec886b7a1a4",
   "metadata": {},
   "outputs": [],
   "source": []
  }
 ],
 "metadata": {
  "kernelspec": {
   "display_name": "R",
   "language": "R",
   "name": "ir"
  },
  "language_info": {
   "codemirror_mode": "r",
   "file_extension": ".r",
   "mimetype": "text/x-r-source",
   "name": "R",
   "pygments_lexer": "r",
   "version": "3.6.1"
  }
 },
 "nbformat": 4,
 "nbformat_minor": 5
}
