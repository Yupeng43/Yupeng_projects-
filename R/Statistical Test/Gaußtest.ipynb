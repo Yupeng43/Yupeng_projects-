{
 "cells": [
  {
   "attachments": {},
   "cell_type": "markdown",
   "id": "7dc4cd14-1608-46e0-aca7-e8e7dad9c145",
   "metadata": {},
   "source": [
    "# Zweiseitiger Gaußtest (mit bekannten Varianz)"
   ]
  },
  {
   "cell_type": "code",
   "execution_count": 11,
   "id": "0c7b9acb-ed1b-4057-a9f7-c3c0ae21246d",
   "metadata": {},
   "outputs": [
    {
     "data": {
      "text/html": [
       "<ol class=list-inline>\n",
       "\t<li>98.4655078162592</li>\n",
       "\t<li>100.449832439013</li>\n",
       "\t<li>97.9531362851255</li>\n",
       "\t<li>103.907623961695</li>\n",
       "\t<li>100.807125907229</li>\n",
       "\t<li>97.990271108825</li>\n",
       "\t<li>101.193952464258</li>\n",
       "\t<li>101.808518792057</li>\n",
       "\t<li>101.410370514961</li>\n",
       "\t<li>99.2519542780954</li>\n",
       "\t<li>103.703092465453</li>\n",
       "\t<li>100.954917008883</li>\n",
       "\t<li>98.4782775701622</li>\n",
       "\t<li>94.5751153430157</li>\n",
       "\t<li>102.755506745331</li>\n",
       "\t<li>99.889935585611</li>\n",
       "\t<li>99.9603421166062</li>\n",
       "\t<li>102.311917116941</li>\n",
       "\t<li>102.011572893949</li>\n",
       "\t<li>101.454755194548</li>\n",
       "</ol>\n"
      ],
      "text/latex": [
       "\\begin{enumerate*}\n",
       "\\item 98.4655078162592\n",
       "\\item 100.449832439013\n",
       "\\item 97.9531362851255\n",
       "\\item 103.907623961695\n",
       "\\item 100.807125907229\n",
       "\\item 97.990271108825\n",
       "\\item 101.193952464258\n",
       "\\item 101.808518792057\n",
       "\\item 101.410370514961\n",
       "\\item 99.2519542780954\n",
       "\\item 103.703092465453\n",
       "\\item 100.954917008883\n",
       "\\item 98.4782775701622\n",
       "\\item 94.5751153430157\n",
       "\\item 102.755506745331\n",
       "\\item 99.889935585611\n",
       "\\item 99.9603421166062\n",
       "\\item 102.311917116941\n",
       "\\item 102.011572893949\n",
       "\\item 101.454755194548\n",
       "\\end{enumerate*}\n"
      ],
      "text/markdown": [
       "1. 98.4655078162592\n",
       "2. 100.449832439013\n",
       "3. 97.9531362851255\n",
       "4. 103.907623961695\n",
       "5. 100.807125907229\n",
       "6. 97.990271108825\n",
       "7. 101.193952464258\n",
       "8. 101.808518792057\n",
       "9. 101.410370514961\n",
       "10. 99.2519542780954\n",
       "11. 103.703092465453\n",
       "12. 100.954917008883\n",
       "13. 98.4782775701622\n",
       "14. 94.5751153430157\n",
       "15. 102.755506745331\n",
       "16. 99.889935585611\n",
       "17. 99.9603421166062\n",
       "18. 102.311917116941\n",
       "19. 102.011572893949\n",
       "20. 101.454755194548\n",
       "\n",
       "\n"
      ],
      "text/plain": [
       " [1]  98.46551 100.44983  97.95314 103.90762 100.80713  97.99027 101.19395\n",
       " [8] 101.80852 101.41037  99.25195 103.70309 100.95492  98.47828  94.57512\n",
       "[15] 102.75551  99.88994  99.96034 102.31192 102.01157 101.45476"
      ]
     },
     "metadata": {},
     "output_type": "display_data"
    }
   ],
   "source": [
    "n<-20\n",
    "m<-100\n",
    "v<-6\n",
    "set.seed(1)\n",
    "x<-rnorm(n,m,sqrt(v))\n",
    "x"
   ]
  },
  {
   "cell_type": "markdown",
   "id": "02e864b9-f4c4-40cb-a277-81941f69afd4",
   "metadata": {},
   "source": [
    "$H_0: \\mu = \\mu_0  (100) $\n",
    "\n",
    "$H_1: \\mu \\neq \\mu_0  (100)$\n",
    "\n",
    "$\\alpha=0.05$"
   ]
  },
  {
   "cell_type": "markdown",
   "id": "8b8bb2a9-4b19-4cb4-9e7a-bc1e49b7b60f",
   "metadata": {},
   "source": [
    "Ablehnbereich fur Z :"
   ]
  },
  {
   "cell_type": "code",
   "execution_count": 12,
   "id": "e674d818-143a-4852-a873-37e68cabc17d",
   "metadata": {},
   "outputs": [
    {
     "data": {
      "text/html": [
       "-1.95996398454005"
      ],
      "text/latex": [
       "-1.95996398454005"
      ],
      "text/markdown": [
       "-1.95996398454005"
      ],
      "text/plain": [
       "[1] -1.959964"
      ]
     },
     "metadata": {},
     "output_type": "display_data"
    },
    {
     "data": {
      "text/html": [
       "1.95996398454005"
      ],
      "text/latex": [
       "1.95996398454005"
      ],
      "text/markdown": [
       "1.95996398454005"
      ],
      "text/plain": [
       "[1] 1.959964"
      ]
     },
     "metadata": {},
     "output_type": "display_data"
    }
   ],
   "source": [
    "lower<--qnorm(1-0.025)\n",
    "upper<- qnorm(1-0.025)\n",
    "lower \n",
    "upper"
   ]
  },
  {
   "cell_type": "markdown",
   "id": "c9233b47-f110-4dca-9d37-f6f6b6c77ff2",
   "metadata": {},
   "source": [
    "Testwert:"
   ]
  },
  {
   "cell_type": "code",
   "execution_count": 13,
   "id": "7da71f96-ca7a-44a2-a8d0-147a1e19e67b",
   "metadata": {},
   "outputs": [
    {
     "data": {
      "text/html": [
       "0.190523876156627"
      ],
      "text/latex": [
       "0.190523876156627"
      ],
      "text/markdown": [
       "0.190523876156627"
      ],
      "text/plain": [
       "[1] 0.1905239"
      ]
     },
     "metadata": {},
     "output_type": "display_data"
    }
   ],
   "source": [
    "z<-(mean(x)-100)/sqrt(v)\n",
    "z"
   ]
  },
  {
   "cell_type": "markdown",
   "id": "be14c502-bc96-4b13-b225-53d486908828",
   "metadata": {},
   "source": [
    "Fazit: Auf einem Signifikanzniveau von 0.05 und basierend auf einer einfachen Stichprobe von Umfang n=20 , konnte nicht statistische signifikant nachgewiesen werden ,dass die wahre Erwartungswert nicht 100 betraegt."
   ]
  },
  {
   "cell_type": "code",
   "execution_count": 14,
   "id": "fe9a85b2-25d9-42e8-af24-8981fe482261",
   "metadata": {},
   "outputs": [
    {
     "data": {
      "text/html": [
       "0.848898635366492"
      ],
      "text/latex": [
       "0.848898635366492"
      ],
      "text/markdown": [
       "0.848898635366492"
      ],
      "text/plain": [
       "[1] 0.8488986"
      ]
     },
     "metadata": {},
     "output_type": "display_data"
    }
   ],
   "source": [
    "# P.value Methode\n",
    "p_value<-2*(1-pnorm(z))\n",
    "p_value"
   ]
  },
  {
   "cell_type": "markdown",
   "id": "d55c6ced-1a34-411c-a9f2-1edde056021e",
   "metadata": {},
   "source": [
    "p_value > alpha  ==> H0"
   ]
  },
  {
   "cell_type": "markdown",
   "id": "e7537b78-0482-4803-a321-b478ecda5676",
   "metadata": {},
   "source": [
    "# Einseitiger Gaußtest (mit bekannten Varianz)"
   ]
  },
  {
   "cell_type": "markdown",
   "id": "c33fe87c-fe6c-42d5-9b5e-73a25ca3cfb6",
   "metadata": {},
   "source": [
    "$H_0: \\mu <= \\mu_0  (100) $\n",
    "\n",
    "$H_1: \\mu >\\mu_0  (100)$\n",
    "\n",
    "$\\alpha=0.05$"
   ]
  },
  {
   "cell_type": "code",
   "execution_count": 15,
   "id": "45e4198f-73f5-43a4-81f6-0696f8897762",
   "metadata": {},
   "outputs": [
    {
     "data": {
      "text/html": [
       "<ol class=list-inline>\n",
       "\t<li>'-infinity'</li>\n",
       "\t<li>'-1.64485362695147'</li>\n",
       "</ol>\n"
      ],
      "text/latex": [
       "\\begin{enumerate*}\n",
       "\\item '-infinity'\n",
       "\\item '-1.64485362695147'\n",
       "\\end{enumerate*}\n"
      ],
      "text/markdown": [
       "1. '-infinity'\n",
       "2. '-1.64485362695147'\n",
       "\n",
       "\n"
      ],
      "text/plain": [
       "[1] \"-infinity\"         \"-1.64485362695147\""
      ]
     },
     "metadata": {},
     "output_type": "display_data"
    }
   ],
   "source": [
    "B<-c('-infinity', -qnorm(1-0.05))\n",
    "B"
   ]
  },
  {
   "cell_type": "code",
   "execution_count": null,
   "id": "177cd15b-b214-4895-b036-694922deb6ae",
   "metadata": {},
   "outputs": [],
   "source": []
  }
 ],
 "metadata": {
  "kernelspec": {
   "display_name": "R",
   "language": "R",
   "name": "ir"
  },
  "language_info": {
   "codemirror_mode": "r",
   "file_extension": ".r",
   "mimetype": "text/x-r-source",
   "name": "R",
   "pygments_lexer": "r",
   "version": "3.6.1"
  }
 },
 "nbformat": 4,
 "nbformat_minor": 5
}
