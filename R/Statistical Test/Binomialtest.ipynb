{
 "cells": [
  {
   "cell_type": "markdown",
   "id": "cb178e6f-730f-4880-8fc0-820676908499",
   "metadata": {},
   "source": [
    "Ein Hersteller von Überraschungseiern wirbt damit, dass in jedem fünften produzierten Ei eine Spielzeugfigur sei. Wird diese Quote unterschritten, sind Umsatzeinbußen zu befürchten. Wird diese Quote überschritten, werden die Produktionskosten zu hoch, da diese aufwendig bemalten Spielzeugfiguren sehr teuer sind. Daher möchte er beide Umstände möglichst vermeiden. In Berlin betreibt der Hersteller eine veraltete Produktionsanlage, die er genau dann abschalten will, wenn sich mit Hilfe eines statistischen Tests ($\\alpha = 0.1$) absichern lässt, dass die vorgegebene Norm nicht eingehalten wird.\n",
    "Zu diesem Zweck werden 24 Überraschungseier aus derselben Produktionsreihe ausgewählt (einfache Stichprobe) und dahingehend überprüft, ob ein ausgewähltes Ei eine Spielzeugfigur enthält oder nicht.\n",
    "\n",
    "Es handelt sich also um einen zweiseitigen ( Einstichproben- ) Test auf $\\pi$ mit der Testfunktion Y: „ Anzahl der Spielzeugfiguren bei einer einfachen Zufallsstichprobe mit n = 24“. Die Testfunktion ist unter $H_0$ binomialverteilt mit $n = 24$ und $\\pi = 0.2$.\n",
    "\n",
    "$H_0 : \\pi = 0.2$ \n",
    "\n",
    "$H_1 : \\pi \\neq 0.2$ \n",
    "\n",
    " Bestimmen  den Annahme− und Verwerfungsbereich dieses Tests."
   ]
  },
  {
   "cell_type": "code",
   "execution_count": 79,
   "id": "000af834-a6cf-4435-ab19-ab61fe918251",
   "metadata": {},
   "outputs": [
    {
     "data": {
      "text/html": [
       "1"
      ],
      "text/latex": [
       "1"
      ],
      "text/markdown": [
       "1"
      ],
      "text/plain": [
       "[1] 1"
      ]
     },
     "metadata": {},
     "output_type": "display_data"
    },
    {
     "data": {
      "text/html": [
       "9"
      ],
      "text/latex": [
       "9"
      ],
      "text/markdown": [
       "9"
      ],
      "text/plain": [
       "[1] 9"
      ]
     },
     "metadata": {},
     "output_type": "display_data"
    },
    {
     "name": "stdout",
     "output_type": "stream",
     "text": [
      "Verwerfungsbereich : X<= 1 oder X >= 9"
     ]
    }
   ],
   "source": [
    "m<-pbinom(0:24,24,0.2)\n",
    "\n",
    "lower<-max(which(m<0.05)-1)\n",
    "lower\n",
    "\n",
    "upper<-min(which(m>0.95)-1)+1\n",
    "upper\n",
    "\n",
    "cat('Verwerfungsbereich : X<=',lower, 'oder X >=',upper)"
   ]
  },
  {
   "cell_type": "code",
   "execution_count": 18,
   "id": "1f1b0a60-4109-4c75-8b2f-01c7fce86e5f",
   "metadata": {},
   "outputs": [
    {
     "data": {
      "text/html": [
       "0.00851074461218884"
      ],
      "text/latex": [
       "0.00851074461218884"
      ],
      "text/markdown": [
       "0.00851074461218884"
      ],
      "text/plain": [
       "[1] 0.008510745"
      ]
     },
     "metadata": {},
     "output_type": "display_data"
    },
    {
     "data": {
      "text/html": [
       "0.0692315534089266"
      ],
      "text/latex": [
       "0.0692315534089266"
      ],
      "text/markdown": [
       "0.0692315534089266"
      ],
      "text/plain": [
       "[1] 0.06923155"
      ]
     },
     "metadata": {},
     "output_type": "display_data"
    },
    {
     "data": {
      "text/html": [
       "0.203688645983097"
      ],
      "text/latex": [
       "0.203688645983097"
      ],
      "text/markdown": [
       "0.203688645983097"
      ],
      "text/plain": [
       "[1] 0.2036886"
      ]
     },
     "metadata": {},
     "output_type": "display_data"
    },
    {
     "data": {
      "text/html": [
       "'.'"
      ],
      "text/latex": [
       "'.'"
      ],
      "text/markdown": [
       "'.'"
      ],
      "text/plain": [
       "[1] \".\""
      ]
     },
     "metadata": {},
     "output_type": "display_data"
    },
    {
     "data": {
      "text/html": [
       "0.122227824153596"
      ],
      "text/latex": [
       "0.122227824153596"
      ],
      "text/markdown": [
       "0.122227824153596"
      ],
      "text/plain": [
       "[1] 0.1222278"
      ]
     },
     "metadata": {},
     "output_type": "display_data"
    },
    {
     "data": {
      "text/html": [
       "0.0408973545117088"
      ],
      "text/latex": [
       "0.0408973545117088"
      ],
      "text/markdown": [
       "0.0408973545117088"
      ],
      "text/plain": [
       "[1] 0.04089735"
      ]
     },
     "metadata": {},
     "output_type": "display_data"
    },
    {
     "data": {
      "text/html": [
       "0.017343456402967"
      ],
      "text/latex": [
       "0.017343456402967"
      ],
      "text/markdown": [
       "0.017343456402967"
      ],
      "text/plain": [
       "[1] 0.01734346"
      ]
     },
     "metadata": {},
     "output_type": "display_data"
    }
   ],
   "source": [
    "binom.test(0,24,0.2,alternative='two.sided',conf.level=0.9)$p.value\n",
    "binom.test(1,24,0.2,alternative='two.sided',conf.level=0.9)$p.value\n",
    "binom.test(2,24,0.2,alternative='two.sided',conf.level=0.9)$p.value\n",
    "'.'\n",
    "binom.test(8,24,0.2,alternative='two.sided',conf.level=0.9)$p.value\n",
    "binom.test(9,24,0.2,alternative='two.sided',conf.level=0.9)$p.value\n",
    "binom.test(10,24,0.2,alternative='two.sided',conf.level=0.9)$p.value\n",
    "\n"
   ]
  },
  {
   "cell_type": "code",
   "execution_count": null,
   "id": "dc33be62-9a9b-4633-ab15-a3fed1657a05",
   "metadata": {},
   "outputs": [],
   "source": []
  }
 ],
 "metadata": {
  "kernelspec": {
   "display_name": "R",
   "language": "R",
   "name": "ir"
  },
  "language_info": {
   "codemirror_mode": "r",
   "file_extension": ".r",
   "mimetype": "text/x-r-source",
   "name": "R",
   "pygments_lexer": "r",
   "version": "3.6.1"
  }
 },
 "nbformat": 4,
 "nbformat_minor": 5
}
