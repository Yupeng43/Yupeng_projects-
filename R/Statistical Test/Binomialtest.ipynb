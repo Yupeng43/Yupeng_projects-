{
 "cells": [
  {
   "cell_type": "code",
   "execution_count": 20,
   "id": "52f424b3-bf3f-4225-bbc6-b7aa3d716487",
   "metadata": {},
   "outputs": [
    {
     "name": "stdout",
     "output_type": "stream",
     "text": [
      "Verwerfungsbereich : X<= 2 und X >= 8"
     ]
    }
   ],
   "source": [
    "\n",
    "v<-dbinom(0:24,24,0.2)\n",
    "left_cdf<-cumsum(v)\n",
    "right_cdf<-cumsum(rev(v))\n",
    "lower<-max(which(left_cdf<0.05))\n",
    "upper<-24-max(which(right_cdf<0.05))\n",
    "cat('Verwerfungsbereich : X<=',lower, 'und X >=',upper)\n"
   ]
  },
  {
   "cell_type": "code",
   "execution_count": 25,
   "id": "919a2863-e0d1-4c34-9465-342f692dcbde",
   "metadata": {},
   "outputs": [
    {
     "data": {
      "image/png": "[encoded data removed]",
      "text/plain": [
       "plot without title"
      ]
     },
     "metadata": {},
     "output_type": "display_data"
    }
   ],
   "source": [
    "plot(0:24,pbinom(0:24,24,0.2))\n",
    "segments(c(3,7),c(-1,-1),c(3,7),pbinom(c(3,7),24,0.2),lty=2)\n",
    "axis(1,at=c(3,7),labels=c(3,7))"
   ]
  },
  {
   "cell_type": "code",
   "execution_count": 28,
   "id": "1f1b0a60-4109-4c75-8b2f-01c7fce86e5f",
   "metadata": {},
   "outputs": [
    {
     "data": {
      "text/plain": [
       "\n",
       "\tExact binomial test\n",
       "\n",
       "data:  4 and 24\n",
       "number of successes = 4, number of trials = 24, p-value = 1\n",
       "alternative hypothesis: true probability of success is not equal to 0.2\n",
       "99 percent confidence interval:\n",
       " 0.0294747 0.4379456\n",
       "sample estimates:\n",
       "probability of success \n",
       "             0.1666667 \n"
      ]
     },
     "metadata": {},
     "output_type": "display_data"
    }
   ],
   "source": [
    "binom.test(4,24,0.2,alternative='two.sided',conf.level=0.99)"
   ]
  },
  {
   "cell_type": "code",
   "execution_count": null,
   "id": "dc33be62-9a9b-4633-ab15-a3fed1657a05",
   "metadata": {},
   "outputs": [],
   "source": []
  }
 ],
 "metadata": {
  "kernelspec": {
   "display_name": "R",
   "language": "R",
   "name": "ir"
  },
  "language_info": {
   "codemirror_mode": "r",
   "file_extension": ".r",
   "mimetype": "text/x-r-source",
   "name": "R",
   "pygments_lexer": "r",
   "version": "3.6.1"
  }
 },
 "nbformat": 4,
 "nbformat_minor": 5
}
