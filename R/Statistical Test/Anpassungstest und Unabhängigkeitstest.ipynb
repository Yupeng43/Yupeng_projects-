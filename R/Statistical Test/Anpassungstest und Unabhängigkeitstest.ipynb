{
 "cells": [
  {
   "cell_type": "markdown",
   "id": "88c38dfc-b068-4054-9de8-25a914a3fdff",
   "metadata": {},
   "source": [
    "# Anpassungstest"
   ]
  },
  {
   "cell_type": "markdown",
   "id": "5a270d19-3346-4d60-b7fa-293ce5336319",
   "metadata": {},
   "source": [
    "Überprüfen mit Hilfe des Anpassungstests, ob das BIP pro Kopf (\"GDP.per.capita\") der im Bericht aufgelisteten Länder gleichverteilt ist."
   ]
  },
  {
   "cell_type": "code",
   "execution_count": 2,
   "id": "dc59fdfa-3398-4cee-9c3a-1ccdae40951c",
   "metadata": {},
   "outputs": [
    {
     "data": {
      "text/html": [
       "<table>\n",
       "<thead><tr><th scope=col>Overall.rank</th><th scope=col>Country.or.region</th><th scope=col>Score</th><th scope=col>GDP.per.capita</th><th scope=col>Social.support</th><th scope=col>Healthy.life.expectancy</th><th scope=col>Freedom.to.make.life.choices</th><th scope=col>Generosity</th><th scope=col>Perceptions.of.corruption</th></tr></thead>\n",
       "<tbody>\n",
       "\t<tr><td>1          </td><td>Finland    </td><td>7.769      </td><td>1.340      </td><td>1.587      </td><td>0.986      </td><td>0.596      </td><td>0.153      </td><td>0.393      </td></tr>\n",
       "\t<tr><td>2          </td><td>Denmark    </td><td>7.600      </td><td>1.383      </td><td>1.573      </td><td>0.996      </td><td>0.592      </td><td>0.252      </td><td>0.410      </td></tr>\n",
       "\t<tr><td>3          </td><td>Norway     </td><td>7.554      </td><td>1.488      </td><td>1.582      </td><td>1.028      </td><td>0.603      </td><td>0.271      </td><td>0.341      </td></tr>\n",
       "\t<tr><td>4          </td><td>Iceland    </td><td>7.494      </td><td>1.380      </td><td>1.624      </td><td>1.026      </td><td>0.591      </td><td>0.354      </td><td>0.118      </td></tr>\n",
       "\t<tr><td>5          </td><td>Netherlands</td><td>7.488      </td><td>1.396      </td><td>1.522      </td><td>0.999      </td><td>0.557      </td><td>0.322      </td><td>0.298      </td></tr>\n",
       "\t<tr><td>6          </td><td>Switzerland</td><td>7.480      </td><td>1.452      </td><td>1.526      </td><td>1.052      </td><td>0.572      </td><td>0.263      </td><td>0.343      </td></tr>\n",
       "</tbody>\n",
       "</table>\n"
      ],
      "text/latex": [
       "\\begin{tabular}{r|lllllllll}\n",
       " Overall.rank & Country.or.region & Score & GDP.per.capita & Social.support & Healthy.life.expectancy & Freedom.to.make.life.choices & Generosity & Perceptions.of.corruption\\\\\n",
       "\\hline\n",
       "\t 1           & Finland     & 7.769       & 1.340       & 1.587       & 0.986       & 0.596       & 0.153       & 0.393      \\\\\n",
       "\t 2           & Denmark     & 7.600       & 1.383       & 1.573       & 0.996       & 0.592       & 0.252       & 0.410      \\\\\n",
       "\t 3           & Norway      & 7.554       & 1.488       & 1.582       & 1.028       & 0.603       & 0.271       & 0.341      \\\\\n",
       "\t 4           & Iceland     & 7.494       & 1.380       & 1.624       & 1.026       & 0.591       & 0.354       & 0.118      \\\\\n",
       "\t 5           & Netherlands & 7.488       & 1.396       & 1.522       & 0.999       & 0.557       & 0.322       & 0.298      \\\\\n",
       "\t 6           & Switzerland & 7.480       & 1.452       & 1.526       & 1.052       & 0.572       & 0.263       & 0.343      \\\\\n",
       "\\end{tabular}\n"
      ],
      "text/markdown": [
       "\n",
       "| Overall.rank | Country.or.region | Score | GDP.per.capita | Social.support | Healthy.life.expectancy | Freedom.to.make.life.choices | Generosity | Perceptions.of.corruption |\n",
       "|---|---|---|---|---|---|---|---|---|\n",
       "| 1           | Finland     | 7.769       | 1.340       | 1.587       | 0.986       | 0.596       | 0.153       | 0.393       |\n",
       "| 2           | Denmark     | 7.600       | 1.383       | 1.573       | 0.996       | 0.592       | 0.252       | 0.410       |\n",
       "| 3           | Norway      | 7.554       | 1.488       | 1.582       | 1.028       | 0.603       | 0.271       | 0.341       |\n",
       "| 4           | Iceland     | 7.494       | 1.380       | 1.624       | 1.026       | 0.591       | 0.354       | 0.118       |\n",
       "| 5           | Netherlands | 7.488       | 1.396       | 1.522       | 0.999       | 0.557       | 0.322       | 0.298       |\n",
       "| 6           | Switzerland | 7.480       | 1.452       | 1.526       | 1.052       | 0.572       | 0.263       | 0.343       |\n",
       "\n"
      ],
      "text/plain": [
       "  Overall.rank Country.or.region Score GDP.per.capita Social.support\n",
       "1 1            Finland           7.769 1.340          1.587         \n",
       "2 2            Denmark           7.600 1.383          1.573         \n",
       "3 3            Norway            7.554 1.488          1.582         \n",
       "4 4            Iceland           7.494 1.380          1.624         \n",
       "5 5            Netherlands       7.488 1.396          1.522         \n",
       "6 6            Switzerland       7.480 1.452          1.526         \n",
       "  Healthy.life.expectancy Freedom.to.make.life.choices Generosity\n",
       "1 0.986                   0.596                        0.153     \n",
       "2 0.996                   0.592                        0.252     \n",
       "3 1.028                   0.603                        0.271     \n",
       "4 1.026                   0.591                        0.354     \n",
       "5 0.999                   0.557                        0.322     \n",
       "6 1.052                   0.572                        0.263     \n",
       "  Perceptions.of.corruption\n",
       "1 0.393                    \n",
       "2 0.410                    \n",
       "3 0.341                    \n",
       "4 0.118                    \n",
       "5 0.298                    \n",
       "6 0.343                    "
      ]
     },
     "metadata": {},
     "output_type": "display_data"
    },
    {
     "name": "stdout",
     "output_type": "stream",
     "text": [
      "'data.frame':\t156 obs. of  9 variables:\n",
      " $ Overall.rank                : int  1 2 3 4 5 6 7 8 9 10 ...\n",
      " $ Country.or.region           : Factor w/ 156 levels \"Afghanistan\",..: 44 37 106 58 99 134 133 100 24 7 ...\n",
      " $ Score                       : num  7.77 7.6 7.55 7.49 7.49 ...\n",
      " $ GDP.per.capita              : num  1.34 1.38 1.49 1.38 1.4 ...\n",
      " $ Social.support              : num  1.59 1.57 1.58 1.62 1.52 ...\n",
      " $ Healthy.life.expectancy     : num  0.986 0.996 1.028 1.026 0.999 ...\n",
      " $ Freedom.to.make.life.choices: num  0.596 0.592 0.603 0.591 0.557 0.572 0.574 0.585 0.584 0.532 ...\n",
      " $ Generosity                  : num  0.153 0.252 0.271 0.354 0.322 0.263 0.267 0.33 0.285 0.244 ...\n",
      " $ Perceptions.of.corruption   : num  0.393 0.41 0.341 0.118 0.298 0.343 0.373 0.38 0.308 0.226 ...\n"
     ]
    }
   ],
   "source": [
    "df<-read.csv('world_happiness_2019.csv')\n",
    "head(df)\n",
    "str(df)"
   ]
  },
  {
   "cell_type": "code",
   "execution_count": 3,
   "id": "54997342-9f82-4c21-b070-be2153deace0",
   "metadata": {},
   "outputs": [
    {
     "data": {
      "text/html": [
       "<table>\n",
       "<thead><tr><th></th><th scope=col>Overall.rank</th><th scope=col>Country.or.region</th><th scope=col>Score</th><th scope=col>GDP.per.capita</th><th scope=col>Social.support</th><th scope=col>Healthy.life.expectancy</th><th scope=col>Freedom.to.make.life.choices</th><th scope=col>Generosity</th><th scope=col>Perceptions.of.corruption</th></tr></thead>\n",
       "<tbody>\n",
       "\t<tr><th scope=row>17</th><td>17     </td><td>Germany</td><td>6.985  </td><td>1.373  </td><td>1.454  </td><td>0.987  </td><td>0.495  </td><td>0.261  </td><td>0.265  </td></tr>\n",
       "</tbody>\n",
       "</table>\n"
      ],
      "text/latex": [
       "\\begin{tabular}{r|lllllllll}\n",
       "  & Overall.rank & Country.or.region & Score & GDP.per.capita & Social.support & Healthy.life.expectancy & Freedom.to.make.life.choices & Generosity & Perceptions.of.corruption\\\\\n",
       "\\hline\n",
       "\t17 & 17      & Germany & 6.985   & 1.373   & 1.454   & 0.987   & 0.495   & 0.261   & 0.265  \\\\\n",
       "\\end{tabular}\n"
      ],
      "text/markdown": [
       "\n",
       "| <!--/--> | Overall.rank | Country.or.region | Score | GDP.per.capita | Social.support | Healthy.life.expectancy | Freedom.to.make.life.choices | Generosity | Perceptions.of.corruption |\n",
       "|---|---|---|---|---|---|---|---|---|---|\n",
       "| 17 | 17      | Germany | 6.985   | 1.373   | 1.454   | 0.987   | 0.495   | 0.261   | 0.265   |\n",
       "\n"
      ],
      "text/plain": [
       "   Overall.rank Country.or.region Score GDP.per.capita Social.support\n",
       "17 17           Germany           6.985 1.373          1.454         \n",
       "   Healthy.life.expectancy Freedom.to.make.life.choices Generosity\n",
       "17 0.987                   0.495                        0.261     \n",
       "   Perceptions.of.corruption\n",
       "17 0.265                    "
      ]
     },
     "metadata": {},
     "output_type": "display_data"
    }
   ],
   "source": [
    "subset(df,subset=(df$Country.or.region=='Germany'))"
   ]
  },
  {
   "cell_type": "code",
   "execution_count": 4,
   "id": "30f03aae-67f4-4c10-981c-ed9e9ebfe487",
   "metadata": {},
   "outputs": [
    {
     "data": {
      "image/png": "[encoded data removed]",
      "text/plain": [
       "Plot with title \"Histogram of df$GDP.per.capita\""
      ]
     },
     "metadata": {},
     "output_type": "display_data"
    }
   ],
   "source": [
    "hist(df$GDP.per.capita)\n",
    "#das Histogramm deutet eher nicht auf eine stetige Gleichverteilung hin."
   ]
  },
  {
   "cell_type": "code",
   "execution_count": 5,
   "id": "85951d96-eab1-40ad-8477-e2a79cdd94e1",
   "metadata": {},
   "outputs": [
    {
     "data": {
      "text/plain": [
       "\n",
       "     niedrig eher_niedrig       mittel    eher_hoch         hoch \n",
       "          19           25           41           49           22 "
      ]
     },
     "metadata": {},
     "output_type": "display_data"
    }
   ],
   "source": [
    "# die Variable BIP pro Kopf in 5 Gruppen einteilen.\n",
    "mi<-min(df$GDP.per.capita)\n",
    "ma<-max(df$GDP.per.capita)\n",
    "v<-cut(df$GDP.per.capita,breaks=seq(mi,ma+0.000001,length=6),right=FALSE)\n",
    "tab<-table(factor(x=v,labels=c( \"niedrig\", \"eher_niedrig\", \"mittel\", \"eher_hoch\", \"hoch\")))\n",
    "tab\n"
   ]
  },
  {
   "cell_type": "code",
   "execution_count": 6,
   "id": "aea00fa3-c510-441d-893b-af1e81709d7d",
   "metadata": {},
   "outputs": [
    {
     "data": {
      "text/plain": [
       "\n",
       "\tChi-squared test for given probabilities\n",
       "\n",
       "data:  tab\n",
       "X-squared = 21.949, df = 4, p-value = 0.0002052\n"
      ]
     },
     "metadata": {},
     "output_type": "display_data"
    }
   ],
   "source": [
    "#Anpassungstest\n",
    "chisq.test(x=tab,p=rep(1/5,5))\n",
    "# Nur zum Berechnen des Werte von chisq\n",
    "# R nutzt hier df=5-1=4 Freiheitsgrade, obwohl die Parameter a und b \n",
    "# der Gleichverteilung geschätzt werden mussten."
   ]
  },
  {
   "cell_type": "code",
   "execution_count": 7,
   "id": "0fd8723f-4d03-41c0-b9a8-c2f8da5ef8fc",
   "metadata": {},
   "outputs": [
    {
     "data": {
      "text/html": [
       "<table>\n",
       "<thead><tr><th></th><th scope=col>abs</th><th scope=col>relativ</th><th scope=col>rel_gl</th><th scope=col>erwartet</th></tr></thead>\n",
       "<tbody>\n",
       "\t<tr><th scope=row>niedrig</th><td>19       </td><td>0.1217949</td><td>0.2      </td><td>31.2     </td></tr>\n",
       "\t<tr><th scope=row>eher_niedrig</th><td>25       </td><td>0.1602564</td><td>0.2      </td><td>31.2     </td></tr>\n",
       "\t<tr><th scope=row>mittel</th><td>41       </td><td>0.2628205</td><td>0.2      </td><td>31.2     </td></tr>\n",
       "\t<tr><th scope=row>eher_hoch</th><td>49       </td><td>0.3141026</td><td>0.2      </td><td>31.2     </td></tr>\n",
       "\t<tr><th scope=row>hoch</th><td>22       </td><td>0.1410256</td><td>0.2      </td><td>31.2     </td></tr>\n",
       "</tbody>\n",
       "</table>\n"
      ],
      "text/latex": [
       "\\begin{tabular}{r|llll}\n",
       "  & abs & relativ & rel\\_gl & erwartet\\\\\n",
       "\\hline\n",
       "\tniedrig & 19        & 0.1217949 & 0.2       & 31.2     \\\\\n",
       "\teher\\_niedrig & 25        & 0.1602564 & 0.2       & 31.2     \\\\\n",
       "\tmittel & 41        & 0.2628205 & 0.2       & 31.2     \\\\\n",
       "\teher\\_hoch & 49        & 0.3141026 & 0.2       & 31.2     \\\\\n",
       "\thoch & 22        & 0.1410256 & 0.2       & 31.2     \\\\\n",
       "\\end{tabular}\n"
      ],
      "text/markdown": [
       "\n",
       "| <!--/--> | abs | relativ | rel_gl | erwartet |\n",
       "|---|---|---|---|---|\n",
       "| niedrig | 19        | 0.1217949 | 0.2       | 31.2      |\n",
       "| eher_niedrig | 25        | 0.1602564 | 0.2       | 31.2      |\n",
       "| mittel | 41        | 0.2628205 | 0.2       | 31.2      |\n",
       "| eher_hoch | 49        | 0.3141026 | 0.2       | 31.2      |\n",
       "| hoch | 22        | 0.1410256 | 0.2       | 31.2      |\n",
       "\n"
      ],
      "text/plain": [
       "             abs relativ   rel_gl erwartet\n",
       "niedrig      19  0.1217949 0.2    31.2    \n",
       "eher_niedrig 25  0.1602564 0.2    31.2    \n",
       "mittel       41  0.2628205 0.2    31.2    \n",
       "eher_hoch    49  0.3141026 0.2    31.2    \n",
       "hoch         22  0.1410256 0.2    31.2    "
      ]
     },
     "metadata": {},
     "output_type": "display_data"
    }
   ],
   "source": [
    "data.frame(abs=c(tab),relativ=c(prop.table(tab)),rel_gl=0.2,erwartet=0.2*sum(tab))"
   ]
  },
  {
   "cell_type": "code",
   "execution_count": 8,
   "id": "a4f4b1e2-b92f-4050-ac8c-7690764d5e19",
   "metadata": {},
   "outputs": [
    {
     "data": {
      "text/html": [
       "<strong>X-squared:</strong> 1.71354871254525e-05"
      ],
      "text/latex": [
       "\\textbf{X-squared:} 1.71354871254525e-05"
      ],
      "text/markdown": [
       "**X-squared:** 1.71354871254525e-05"
      ],
      "text/plain": [
       "   X-squared \n",
       "1.713549e-05 "
      ]
     },
     "metadata": {},
     "output_type": "display_data"
    }
   ],
   "source": [
    "# exakte P_value\n",
    "p.wert<-1- pchisq(chisq.test(x=tab,p=rep(1/5,5))$statistic,df=2)\n",
    "p.wert\n",
    "# Wegen des sehr niedrigen p-Werts (p = 0.00001713549) wird die Nullhypothese \n",
    "# selbst bei einem Signifikanzniveau von 0.01 verworfen.\n",
    "# Es gibt somit gute Gründe daran zu zweifeln, \n",
    "# dass die Verteilung des BIP pro Kopf der im Bericht gelisteten Länder in 2019 gleichverteilt ist."
   ]
  },
  {
   "cell_type": "markdown",
   "id": "8a11e2e6-9db1-4313-af8f-9bde847ac157",
   "metadata": {},
   "source": [
    "# Unabhängigkeitstest"
   ]
  },
  {
   "cell_type": "code",
   "execution_count": 10,
   "id": "ff75e852-aaca-4179-9ba5-935e00007b2f",
   "metadata": {},
   "outputs": [
    {
     "data": {
      "text/plain": [
       "GDP\n",
       "niedrig    hoch \n",
       "     63      93 "
      ]
     },
     "metadata": {},
     "output_type": "display_data"
    }
   ],
   "source": [
    "# die Variable \"GDP.per.capita\" in 2 gleich breite Gruppen einteilen\n",
    "v1<-cut(df$GDP.per.capita,breaks=seq(mi,ma+0.0000001,length=3),right=F)\n",
    "GDP<-factor(v1,labels=c(\"niedrig\", \"hoch\"))\n",
    "table(GDP)"
   ]
  },
  {
   "cell_type": "code",
   "execution_count": 11,
   "id": "d7afa5b8-37ba-41bd-90b6-0a158702aa3f",
   "metadata": {},
   "outputs": [
    {
     "data": {
      "text/plain": [
       "Score\n",
       "niedrig  mittel    hoch \n",
       "     35      79      42 "
      ]
     },
     "metadata": {},
     "output_type": "display_data"
    }
   ],
   "source": [
    "# die Variable \"Score\" in 3 gleich breite Gruppen einteilen\n",
    "mi2<-min(df$Score)\n",
    "ma2<-max(df$Score)\n",
    "v2<-cut(df$Score,breaks=seq(mi2,ma2+0.000001,length=4),right=F)\n",
    "Score<-factor(v2,labels=c(\"niedrig\", \"mittel\", \"hoch\"))\n",
    "table(Score)"
   ]
  },
  {
   "cell_type": "code",
   "execution_count": 12,
   "id": "96bd865c-d83e-4d68-be00-cd32682539f7",
   "metadata": {},
   "outputs": [
    {
     "data": {
      "text/plain": [
       "         Score\n",
       "GDP       niedrig mittel hoch\n",
       "  niedrig      30     30    3\n",
       "  hoch          5     49   39"
      ]
     },
     "metadata": {},
     "output_type": "display_data"
    }
   ],
   "source": [
    "#Kreuztabelle mit der Anzahl der Länder für jede der 6 Zellen.\n",
    "tab2<-table(GDP ,Score)\n",
    "tab2"
   ]
  },
  {
   "cell_type": "code",
   "execution_count": 13,
   "id": "9495cb7d-3481-41c3-a411-890e470e06df",
   "metadata": {},
   "outputs": [
    {
     "data": {
      "image/png": "[encoded data removed]",
      "text/plain": [
       "Plot with title \"tab2\""
      ]
     },
     "metadata": {},
     "output_type": "display_data"
    }
   ],
   "source": [
    "mosaicplot(tab2,col=T)\n",
    "# der Mosaikplot deutet auf eine Abhängigkeit der beiden Variablen hin \n",
    "#nur wenige Länder mit niedrigem BIP weisen einen hohen Glücks-Score auf, \n",
    "# und nur wenige Länder mit hohem BIP weisen einen niedrigen Glücks-Score auf."
   ]
  },
  {
   "cell_type": "code",
   "execution_count": 18,
   "id": "723f14f9-464a-4e24-9f93-39cc6b07acae",
   "metadata": {},
   "outputs": [
    {
     "data": {
      "text/plain": [
       "\n",
       "\tPearson's Chi-squared test\n",
       "\n",
       "data:  tab2\n",
       "X-squared = 49.339, df = 2, p-value = 1.932e-11\n"
      ]
     },
     "metadata": {},
     "output_type": "display_data"
    }
   ],
   "source": [
    "#chi^2-Unabhängigkeitstest\n",
    "chisq.test(x = tab2, correct=FALSE)\n",
    "# Das Ergebnis ist signifikant (Chi-squared = 49.339, df = 2, p-value = 1.932e-11). Die Nullhypothese\n",
    "# der Unabhängigkeit wird verworfen. Glücksscore und BIP Index sind nicht unabhängig."
   ]
  },
  {
   "cell_type": "code",
   "execution_count": 24,
   "id": "34e6e000-f9ee-40de-a505-5c5a47438bbd",
   "metadata": {},
   "outputs": [
    {
     "data": {
      "text/plain": [
       "\n",
       "Call:\n",
       "lm(formula = df$Score ~ df$GDP.per.capita)\n",
       "\n",
       "Coefficients:\n",
       "      (Intercept)  df$GDP.per.capita  \n",
       "            3.399              2.218  \n"
      ]
     },
     "metadata": {},
     "output_type": "display_data"
    },
    {
     "data": {
      "image/png": "[encoded data removed]",
      "text/plain": [
       "Plot with title \"GDP and Happiness\""
      ]
     },
     "metadata": {},
     "output_type": "display_data"
    }
   ],
   "source": [
    "plot(df$GDP.per.capita,df$Score,col=\"blue\", main=\"GDP and Happiness\", xlab=\"GDP index\", ylab=\"happiness score\")\n",
    "abline(lm(df$Score ~ df$GDP.per.capita), col=\"red\")\n",
    "lm(df$Score ~ df$GDP.per.capita)\n",
    "# Steigt der BIP Index um einen Punkt, erhöht sich der mittlere\n",
    "# Glücks-Score geschätzt um 2.218 Punkte."
   ]
  },
  {
   "cell_type": "code",
   "execution_count": null,
   "id": "caca5c0d-9b70-45bb-8542-155a2f035e0b",
   "metadata": {},
   "outputs": [],
   "source": []
  },
  {
   "cell_type": "code",
   "execution_count": null,
   "id": "952bf186-31e2-42c4-97a0-f121903fca20",
   "metadata": {},
   "outputs": [],
   "source": []
  }
 ],
 "metadata": {
  "kernelspec": {
   "display_name": "R",
   "language": "R",
   "name": "ir"
  },
  "language_info": {
   "codemirror_mode": "r",
   "file_extension": ".r",
   "mimetype": "text/x-r-source",
   "name": "R",
   "pygments_lexer": "r",
   "version": "3.6.1"
  }
 },
 "nbformat": 4,
 "nbformat_minor": 5
}
