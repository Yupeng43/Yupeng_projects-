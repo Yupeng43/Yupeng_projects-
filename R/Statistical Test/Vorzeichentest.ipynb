{
 "cells": [
  {
   "cell_type": "markdown",
   "id": "96b8b57b-2073-4746-87c7-42c917b12d73",
   "metadata": {},
   "source": [
    "# Vorzeichenrangtests nach Wilcoxon "
   ]
  },
  {
   "cell_type": "markdown",
   "id": "e642e3e5-e77f-4352-8cdc-10326ef54093",
   "metadata": {},
   "source": [
    "**Beispiel:** Eine Maschine schneidet Papierbögen mit einer vorgegebenen Ideal- Länge von $\\tilde{\\mu_0} = 205 mm$, wobei kleine Abweichungen vorkommen können. Um zu überprüfen, ob die Ideal-Länge im Median eingehalten wird, werden $n = 12$\n",
    "Bögen zufällig entnommen und ihre Länge nachgemessen. Es ergeben sich die Werte 204.8, 205.1, 204.7, 205.5, 205.1, 204.8, 205.1, 205.2, 205.2, 204.9, 205.5, 205.1.\n",
    "\n",
    "$H_0 : \\tilde{\\mu} = \\tilde{\\mu_0} = 205$  \n",
    "$H_1 : \\tilde{\\mu} \\neq \\tilde{\\mu_0}$"
   ]
  },
  {
   "cell_type": "code",
   "execution_count": 1,
   "id": "22d2730b-c444-4cb6-8236-a9002ea27da2",
   "metadata": {},
   "outputs": [],
   "source": [
    "stichprobe <-  c(204.8, 205.1, 204.7, 205.5, 205.1, 204.8, 205.1, 205.2, 205.2,\n",
    "                 204.9, 205.5, 205.1)"
   ]
  },
  {
   "cell_type": "code",
   "execution_count": 2,
   "id": "2ffbb820-a58c-4313-85fc-be55adaa6d96",
   "metadata": {},
   "outputs": [
    {
     "name": "stderr",
     "output_type": "stream",
     "text": [
      "Warning message in wilcox.test.default(x = stichprobe, alternative = \"two.sided\", :\n",
      "\"cannot compute exact p-value with ties\""
     ]
    },
    {
     "data": {
      "text/plain": [
       "\n",
       "\tWilcoxon signed rank test\n",
       "\n",
       "data:  stichprobe\n",
       "V = 50, p-value = 0.3825\n",
       "alternative hypothesis: true location is not equal to 205\n"
      ]
     },
     "metadata": {},
     "output_type": "display_data"
    }
   ],
   "source": [
    "wilcox.test(x = stichprobe, alternative = \"two.sided\", mu = 205,\n",
    "            paired = F, exact = T, correct = F)"
   ]
  },
  {
   "cell_type": "code",
   "execution_count": 3,
   "id": "0c11fc20-fce6-411d-b399-5e827538bc18",
   "metadata": {},
   "outputs": [
    {
     "data": {
      "text/html": [
       "12"
      ],
      "text/latex": [
       "12"
      ],
      "text/markdown": [
       "12"
      ],
      "text/plain": [
       "[1] 12"
      ]
     },
     "metadata": {},
     "output_type": "display_data"
    },
    {
     "data": {
      "text/html": [
       "0.38037109375"
      ],
      "text/latex": [
       "0.38037109375"
      ],
      "text/markdown": [
       "0.38037109375"
      ],
      "text/plain": [
       "[1] 0.3803711"
      ]
     },
     "metadata": {},
     "output_type": "display_data"
    }
   ],
   "source": [
    "# mithilfe der signrank() Verteilung den exakten p-Wert berechnen\n",
    "mu_0 = 205\n",
    "w_plus = 50\n",
    "\n",
    "stichprobe <- stichprobe[stichprobe!=mu_0]\n",
    "\n",
    "n_star = length(stichprobe)\n",
    "n_star\n",
    "2*(1-psignrank(q = w_plus, n = n_star, lower.tail = T))"
   ]
  },
  {
   "cell_type": "markdown",
   "id": "a0b9ff45-90fb-44ab-9cfa-26f1844e3345",
   "metadata": {},
   "source": [
    "Die Wahrscheinlichkeit unter der Nullhypothese für $W^+$ einen Wert von 50 oder noch extremer in Richtung der Alternativhypothese zu bekommen, beträgt ca. $38\\%$. Wir können somit nicht nachweisen, dass die Maschine vom Median-Sollwert signifikant abweicht (\"$H_0$\")."
   ]
  },
  {
   "cell_type": "markdown",
   "id": "c21d1556-0311-42da-b915-04a0d30ed898",
   "metadata": {},
   "source": [
    "# Zwei-Stichproben-Wilcoxon-Test: verbunden"
   ]
  },
  {
   "cell_type": "markdown",
   "id": "b639131a-5884-4c60-b05c-a50a577b6f86",
   "metadata": {},
   "source": [
    "**Beispiel**: Der Datensatz survey enthält die Antworten von 237 Studierenden auf verschiedene Fragen. Unter anderem wurde die Spannweite der Schreibhand Wr.hnd und die Spannweite der Nicht-Schreibhand NW.hnd in cm abgefragt. Gibt es einen bedeutsamen Unterschied in der Spannweite?"
   ]
  },
  {
   "cell_type": "code",
   "execution_count": 4,
   "id": "989c5513-296b-4dbb-8569-4c3280baa0d3",
   "metadata": {},
   "outputs": [
    {
     "data": {
      "text/plain": [
       "\n",
       "\tWilcoxon signed rank test with continuity correction\n",
       "\n",
       "data:  survey$Wr.Hnd and survey$NW.Hnd\n",
       "V = 10919, p-value = 0.08225\n",
       "alternative hypothesis: true location shift is not equal to 0\n"
      ]
     },
     "metadata": {},
     "output_type": "display_data"
    },
    {
     "data": {
      "text/plain": [
       "\n",
       "\tPaired t-test\n",
       "\n",
       "data:  survey$Wr.Hnd and survey$NW.Hnd\n",
       "t = 2.1268, df = 235, p-value = 0.03448\n",
       "alternative hypothesis: true difference in means is not equal to 0\n",
       "95 percent confidence interval:\n",
       " 0.006367389 0.166513967\n",
       "sample estimates:\n",
       "mean of the differences \n",
       "             0.08644068 \n"
      ]
     },
     "metadata": {},
     "output_type": "display_data"
    }
   ],
   "source": [
    "#Der Fall zweier verbundener Stichproben wird analog zum t-Test durch Bildung von \n",
    "#Differenzen auf den Ein-Stichproben Fall zurückgeführt.\n",
    "survey <- read.csv(\"survey.csv\", header=TRUE)\n",
    "wilcox.test(x = survey$Wr.Hnd, y = survey$NW.Hnd, mu = 0, \n",
    "            alternative = \"two.sided\", paired = TRUE, conf.level = 0.95)\n",
    "\n",
    "t.test(x = survey$Wr.Hnd, y = survey$NW.Hnd, mu = 0, \n",
    "       alternative = \"two.sided\", paired = TRUE, conf.level = 0.95)"
   ]
  },
  {
   "cell_type": "code",
   "execution_count": 5,
   "id": "e5243cac-16a5-4053-89b9-8adcf2fc5db5",
   "metadata": {},
   "outputs": [
    {
     "data": {
      "image/png": "[encoded data removed]",
      "text/plain": [
       "Plot with title \"Histogramm der Differenzen\""
      ]
     },
     "metadata": {},
     "output_type": "display_data"
    }
   ],
   "source": [
    "hist(survey$Wr.Hnd - survey$NW.Hnd, freq = F, xlab=\"Differenz\", ylab=\"Dichte\",\n",
    "     main=\"Histogramm der Differenzen\")"
   ]
  },
  {
   "cell_type": "markdown",
   "id": "09bbd5ff-b3fa-403f-83f2-2890a93f05b9",
   "metadata": {},
   "source": [
    "Das Histogramm zeigt, dass die empirische Verteilung von den Differenzen nicht symmetrisch ist, sondern (insbesondere bedingt durch einen Ausreißer) eine Rechtsschiefe aufweist. Der Wilcoxon-Test reagiert hierauf also weniger stark, was im gegeben Kontext sinnvoll sein könnte.\n",
    "Es führt dazu ,dass im Unterschied zu dem entsprechenden t-Test  ein p-Wert größer als $\\alpha = 0.05$ (\"$H_0$\") wird. "
   ]
  },
  {
   "cell_type": "markdown",
   "id": "a3f431cd-4802-49f4-a9ab-c640ccba9804",
   "metadata": {},
   "source": [
    "# Zweistichproben-Wilcoxon-Test: unverbunden"
   ]
  },
  {
   "cell_type": "markdown",
   "id": "1754a9a8-7329-48ae-a031-c64366c3437a",
   "metadata": {},
   "source": [
    " Gibt es in der Spannweite der Schreibhand Wr.Hnd einen Unterschied im Hinblick auf das Geschlecht?"
   ]
  },
  {
   "cell_type": "code",
   "execution_count": 6,
   "id": "830e37e6-0a7b-4543-978a-4b616a04d7b0",
   "metadata": {},
   "outputs": [
    {
     "data": {
      "image/png": "[encoded data removed]",
      "text/plain": [
       "plot without title"
      ]
     },
     "metadata": {},
     "output_type": "display_data"
    }
   ],
   "source": [
    "survey$geschlecht <- survey$Sex\n",
    "boxplot(survey$Wr.Hnd ~ survey$geschlecht)"
   ]
  },
  {
   "cell_type": "code",
   "execution_count": 7,
   "id": "343521d1-fb94-4511-b2b2-fd04aecc816d",
   "metadata": {},
   "outputs": [
    {
     "data": {
      "text/plain": [
       "\n",
       "\tWilcoxon rank sum test with continuity correction\n",
       "\n",
       "data:  survey$Wr.Hnd[survey$geschlecht == \"Female\"] and survey$Wr.Hnd[survey$geschlecht == \"Male\"]\n",
       "W = 2137.5, p-value < 2.2e-16\n",
       "alternative hypothesis: true location shift is not equal to 0\n"
      ]
     },
     "metadata": {},
     "output_type": "display_data"
    }
   ],
   "source": [
    "wilcox.test(x = survey$Wr.Hnd[survey$geschlecht==\"Female\"],\n",
    "            y = survey$Wr.Hnd[survey$geschlecht==\"Male\"], \n",
    "       mu = 0, alternative = \"two.sided\", paired = FALSE, var.equal = TRUE, \n",
    "            conf.level = 0.95)"
   ]
  },
  {
   "cell_type": "markdown",
   "id": "36475bd7-6518-4c51-b67b-ac2df2c4e41f",
   "metadata": {},
   "source": [
    "Basierend auf einem Signifikanzniveau von $\\alpha = 0.05$ konnte ein statistisch signifikanter Unterschied zwischen der Spannweite der Schreibhand im Hinblick auf das Geschlecht nachgewiesen werden."
   ]
  },
  {
   "cell_type": "code",
   "execution_count": null,
   "id": "08810daa-5645-4fd9-a8ec-962c2e510c0a",
   "metadata": {},
   "outputs": [],
   "source": []
  }
 ],
 "metadata": {
  "kernelspec": {
   "display_name": "R",
   "language": "R",
   "name": "ir"
  },
  "language_info": {
   "codemirror_mode": "r",
   "file_extension": ".r",
   "mimetype": "text/x-r-source",
   "name": "R",
   "pygments_lexer": "r",
   "version": "3.6.1"
  }
 },
 "nbformat": 4,
 "nbformat_minor": 5
}
