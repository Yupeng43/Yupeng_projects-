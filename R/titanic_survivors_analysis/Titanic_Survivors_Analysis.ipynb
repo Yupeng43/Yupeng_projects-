{
 "cells": [
  {
   "cell_type": "code",
   "execution_count": 3,
   "id": "a7c84ad7-44cf-4750-ba7f-38a523bc116b",
   "metadata": {},
   "outputs": [
    {
     "data": {
      "text/html": [
       "<table>\n",
       "<thead><tr><th scope=col>PassengerId</th><th scope=col>Survived</th><th scope=col>Pclass</th><th scope=col>Name</th><th scope=col>Sex</th><th scope=col>Age</th><th scope=col>SibSp</th><th scope=col>Parch</th><th scope=col>Ticket</th><th scope=col>Fare</th><th scope=col>Cabin</th><th scope=col>Embarked</th></tr></thead>\n",
       "<tbody>\n",
       "\t<tr><td>1                                                  </td><td>0                                                  </td><td>3                                                  </td><td>Braund, Mr. Owen Harris                            </td><td>male                                               </td><td>22                                                 </td><td>1                                                  </td><td>0                                                  </td><td>A/5 21171                                          </td><td> 7.2500                                            </td><td>                                                   </td><td>S                                                  </td></tr>\n",
       "\t<tr><td>2                                                  </td><td>1                                                  </td><td>1                                                  </td><td>Cumings, Mrs. John Bradley (Florence Briggs Thayer)</td><td>female                                             </td><td>38                                                 </td><td>1                                                  </td><td>0                                                  </td><td>PC 17599                                           </td><td>71.2833                                            </td><td>C85                                                </td><td>C                                                  </td></tr>\n",
       "\t<tr><td>3                                                  </td><td>1                                                  </td><td>3                                                  </td><td>Heikkinen, Miss. Laina                             </td><td>female                                             </td><td>26                                                 </td><td>0                                                  </td><td>0                                                  </td><td>STON/O2. 3101282                                   </td><td> 7.9250                                            </td><td>                                                   </td><td>S                                                  </td></tr>\n",
       "\t<tr><td>4                                                  </td><td>1                                                  </td><td>1                                                  </td><td>Futrelle, Mrs. Jacques Heath (Lily May Peel)       </td><td>female                                             </td><td>35                                                 </td><td>1                                                  </td><td>0                                                  </td><td>113803                                             </td><td>53.1000                                            </td><td>C123                                               </td><td>S                                                  </td></tr>\n",
       "\t<tr><td>5                                                  </td><td>0                                                  </td><td>3                                                  </td><td>Allen, Mr. William Henry                           </td><td>male                                               </td><td>35                                                 </td><td>0                                                  </td><td>0                                                  </td><td>373450                                             </td><td> 8.0500                                            </td><td>                                                   </td><td>S                                                  </td></tr>\n",
       "\t<tr><td>6                                                  </td><td>0                                                  </td><td>3                                                  </td><td>Moran, Mr. James                                   </td><td>male                                               </td><td>NA                                                 </td><td>0                                                  </td><td>0                                                  </td><td>330877                                             </td><td> 8.4583                                            </td><td>                                                   </td><td>Q                                                  </td></tr>\n",
       "</tbody>\n",
       "</table>\n"
      ],
      "text/latex": [
       "\\begin{tabular}{r|llllllllllll}\n",
       " PassengerId & Survived & Pclass & Name & Sex & Age & SibSp & Parch & Ticket & Fare & Cabin & Embarked\\\\\n",
       "\\hline\n",
       "\t 1                                                   & 0                                                   & 3                                                   & Braund, Mr. Owen Harris                             & male                                                & 22                                                  & 1                                                   & 0                                                   & A/5 21171                                           &  7.2500                                             &                                                     & S                                                  \\\\\n",
       "\t 2                                                   & 1                                                   & 1                                                   & Cumings, Mrs. John Bradley (Florence Briggs Thayer) & female                                              & 38                                                  & 1                                                   & 0                                                   & PC 17599                                            & 71.2833                                             & C85                                                 & C                                                  \\\\\n",
       "\t 3                                                   & 1                                                   & 3                                                   & Heikkinen, Miss. Laina                              & female                                              & 26                                                  & 0                                                   & 0                                                   & STON/O2. 3101282                                    &  7.9250                                             &                                                     & S                                                  \\\\\n",
       "\t 4                                                   & 1                                                   & 1                                                   & Futrelle, Mrs. Jacques Heath (Lily May Peel)        & female                                              & 35                                                  & 1                                                   & 0                                                   & 113803                                              & 53.1000                                             & C123                                                & S                                                  \\\\\n",
       "\t 5                                                   & 0                                                   & 3                                                   & Allen, Mr. William Henry                            & male                                                & 35                                                  & 0                                                   & 0                                                   & 373450                                              &  8.0500                                             &                                                     & S                                                  \\\\\n",
       "\t 6                                                   & 0                                                   & 3                                                   & Moran, Mr. James                                    & male                                                & NA                                                  & 0                                                   & 0                                                   & 330877                                              &  8.4583                                             &                                                     & Q                                                  \\\\\n",
       "\\end{tabular}\n"
      ],
      "text/markdown": [
       "\n",
       "| PassengerId | Survived | Pclass | Name | Sex | Age | SibSp | Parch | Ticket | Fare | Cabin | Embarked |\n",
       "|---|---|---|---|---|---|---|---|---|---|---|---|\n",
       "| 1                                                   | 0                                                   | 3                                                   | Braund, Mr. Owen Harris                             | male                                                | 22                                                  | 1                                                   | 0                                                   | A/5 21171                                           |  7.2500                                             |                                                     | S                                                   |\n",
       "| 2                                                   | 1                                                   | 1                                                   | Cumings, Mrs. John Bradley (Florence Briggs Thayer) | female                                              | 38                                                  | 1                                                   | 0                                                   | PC 17599                                            | 71.2833                                             | C85                                                 | C                                                   |\n",
       "| 3                                                   | 1                                                   | 3                                                   | Heikkinen, Miss. Laina                              | female                                              | 26                                                  | 0                                                   | 0                                                   | STON/O2. 3101282                                    |  7.9250                                             |                                                     | S                                                   |\n",
       "| 4                                                   | 1                                                   | 1                                                   | Futrelle, Mrs. Jacques Heath (Lily May Peel)        | female                                              | 35                                                  | 1                                                   | 0                                                   | 113803                                              | 53.1000                                             | C123                                                | S                                                   |\n",
       "| 5                                                   | 0                                                   | 3                                                   | Allen, Mr. William Henry                            | male                                                | 35                                                  | 0                                                   | 0                                                   | 373450                                              |  8.0500                                             |                                                     | S                                                   |\n",
       "| 6                                                   | 0                                                   | 3                                                   | Moran, Mr. James                                    | male                                                | NA                                                  | 0                                                   | 0                                                   | 330877                                              |  8.4583                                             |                                                     | Q                                                   |\n",
       "\n"
      ],
      "text/plain": [
       "  PassengerId Survived Pclass\n",
       "1 1           0        3     \n",
       "2 2           1        1     \n",
       "3 3           1        3     \n",
       "4 4           1        1     \n",
       "5 5           0        3     \n",
       "6 6           0        3     \n",
       "  Name                                                Sex    Age SibSp Parch\n",
       "1 Braund, Mr. Owen Harris                             male   22  1     0    \n",
       "2 Cumings, Mrs. John Bradley (Florence Briggs Thayer) female 38  1     0    \n",
       "3 Heikkinen, Miss. Laina                              female 26  0     0    \n",
       "4 Futrelle, Mrs. Jacques Heath (Lily May Peel)        female 35  1     0    \n",
       "5 Allen, Mr. William Henry                            male   35  0     0    \n",
       "6 Moran, Mr. James                                    male   NA  0     0    \n",
       "  Ticket           Fare    Cabin Embarked\n",
       "1 A/5 21171         7.2500       S       \n",
       "2 PC 17599         71.2833 C85   C       \n",
       "3 STON/O2. 3101282  7.9250       S       \n",
       "4 113803           53.1000 C123  S       \n",
       "5 373450            8.0500       S       \n",
       "6 330877            8.4583       Q       "
      ]
     },
     "metadata": {},
     "output_type": "display_data"
    },
    {
     "name": "stdout",
     "output_type": "stream",
     "text": [
      "'data.frame':\t891 obs. of  12 variables:\n",
      " $ PassengerId: int  1 2 3 4 5 6 7 8 9 10 ...\n",
      " $ Survived   : int  0 1 1 1 0 0 0 0 1 1 ...\n",
      " $ Pclass     : int  3 1 3 1 3 3 1 3 3 2 ...\n",
      " $ Name       : Factor w/ 891 levels \"Abbing, Mr. Anthony\",..: 109 191 358 277 16 559 520 629 417 581 ...\n",
      " $ Sex        : Factor w/ 2 levels \"female\",\"male\": 2 1 1 1 2 2 2 2 1 1 ...\n",
      " $ Age        : num  22 38 26 35 35 NA 54 2 27 14 ...\n",
      " $ SibSp      : int  1 1 0 1 0 0 0 3 0 1 ...\n",
      " $ Parch      : int  0 0 0 0 0 0 0 1 2 0 ...\n",
      " $ Ticket     : Factor w/ 681 levels \"110152\",\"110413\",..: 524 597 670 50 473 276 86 396 345 133 ...\n",
      " $ Fare       : num  7.25 71.28 7.92 53.1 8.05 ...\n",
      " $ Cabin      : Factor w/ 148 levels \"\",\"A10\",\"A14\",..: 1 83 1 57 1 1 131 1 1 1 ...\n",
      " $ Embarked   : Factor w/ 4 levels \"\",\"C\",\"Q\",\"S\": 4 2 4 4 4 3 4 4 4 2 ...\n"
     ]
    }
   ],
   "source": [
    "df<-read.csv('titanic_train_data.csv')\n",
    "head(df)\n",
    "str(df)"
   ]
  },
  {
   "cell_type": "code",
   "execution_count": 10,
   "id": "7cf88f8d-067d-495a-8bd6-83247df6248e",
   "metadata": {},
   "outputs": [
    {
     "data": {
      "text/html": [
       "<dl class=dl-horizontal>\n",
       "\t<dt>1</dt>\n",
       "\t\t<dd>136</dd>\n",
       "\t<dt>2</dt>\n",
       "\t\t<dd>87</dd>\n",
       "\t<dt>3</dt>\n",
       "\t\t<dd>119</dd>\n",
       "</dl>\n"
      ],
      "text/latex": [
       "\\begin{description*}\n",
       "\\item[1] 136\n",
       "\\item[2] 87\n",
       "\\item[3] 119\n",
       "\\end{description*}\n"
      ],
      "text/markdown": [
       "1\n",
       ":   1362\n",
       ":   873\n",
       ":   119\n",
       "\n"
      ],
      "text/plain": [
       "  1   2   3 \n",
       "136  87 119 "
      ]
     },
     "metadata": {},
     "output_type": "display_data"
    },
    {
     "data": {
      "image/png": "[encoded data removed]",
      "text/plain": [
       "Plot with title \"Survivors by Passenger Class\""
      ]
     },
     "metadata": {},
     "output_type": "display_data"
    }
   ],
   "source": [
    "# Anzahl Überlebender nach Klasse:\n",
    "(survivors_by_class<-tapply(df$Survived,df$Pclass ,sum))\n",
    "\n",
    "\n",
    "\n",
    "labels <- paste(\"Class\", names(survivors_by_class), \"-\",survivors_by_class)\n",
    "\n",
    "pie(survivors_by_class, \n",
    "    labels = labels,\n",
    "    main = \"Survivors by Passenger Class\",\n",
    "    col = rainbow(length(survivors_by_class)))"
   ]
  },
  {
   "cell_type": "code",
   "execution_count": 15,
   "id": "d366679f-442a-4e5a-ab4a-d471e4f61f78",
   "metadata": {},
   "outputs": [
    {
     "data": {
      "text/html": [
       "<dl class=dl-horizontal>\n",
       "\t<dt>1</dt>\n",
       "\t\t<dd>0.62962962962963</dd>\n",
       "\t<dt>2</dt>\n",
       "\t\t<dd>0.472826086956522</dd>\n",
       "\t<dt>3</dt>\n",
       "\t\t<dd>0.242362525458248</dd>\n",
       "</dl>\n"
      ],
      "text/latex": [
       "\\begin{description*}\n",
       "\\item[1] 0.62962962962963\n",
       "\\item[2] 0.472826086956522\n",
       "\\item[3] 0.242362525458248\n",
       "\\end{description*}\n"
      ],
      "text/markdown": [
       "1\n",
       ":   0.629629629629632\n",
       ":   0.4728260869565223\n",
       ":   0.242362525458248\n",
       "\n"
      ],
      "text/plain": [
       "        1         2         3 \n",
       "0.6296296 0.4728261 0.2423625 "
      ]
     },
     "metadata": {},
     "output_type": "display_data"
    },
    {
     "data": {
      "image/png": "[encoded data removed]",
      "text/plain": [
       "Plot with title \"Survivors by Passenger Class\""
      ]
     },
     "metadata": {},
     "output_type": "display_data"
    }
   ],
   "source": [
    "# Anteil Überlebender in jeder Klasse: \n",
    "(Anteil<-tapply(df$Survived,df$Pclass ,mean))\n",
    "labels <- paste(\"Class\", names(survivors_by_class), \"-\",100*round(Anteil,4),'%')\n",
    "pie(Anteil, \n",
    "    labels = labels,\n",
    "    main = \"Survivors by Passenger Class\",\n",
    "    col = rainbow(length(survivors_by_class)))"
   ]
  },
  {
   "cell_type": "code",
   "execution_count": 17,
   "id": "16dfc0f7-f4a9-4855-98e1-8a3bfaa570f2",
   "metadata": {},
   "outputs": [
    {
     "data": {
      "text/html": [
       "<dl class=dl-horizontal>\n",
       "\t<dt>female</dt>\n",
       "\t\t<dd>0.74203821656051</dd>\n",
       "\t<dt>male</dt>\n",
       "\t\t<dd>0.188908145580589</dd>\n",
       "</dl>\n"
      ],
      "text/latex": [
       "\\begin{description*}\n",
       "\\item[female] 0.74203821656051\n",
       "\\item[male] 0.188908145580589\n",
       "\\end{description*}\n"
      ],
      "text/markdown": [
       "female\n",
       ":   0.74203821656051male\n",
       ":   0.188908145580589\n",
       "\n"
      ],
      "text/plain": [
       "   female      male \n",
       "0.7420382 0.1889081 "
      ]
     },
     "metadata": {},
     "output_type": "display_data"
    },
    {
     "data": {
      "image/png": "[encoded data removed]",
      "text/plain": [
       "plot without title"
      ]
     },
     "metadata": {},
     "output_type": "display_data"
    }
   ],
   "source": [
    "# Anteil Überlebender nach Geschlecht:\n",
    "(Anteil_Geschlecht<-tapply(df$Survived,df$Sex ,mean))\n",
    "barplot(Anteil_Geschlecht,col=c('red','blue'))"
   ]
  },
  {
   "cell_type": "code",
   "execution_count": 24,
   "id": "b7fa7e86-0650-416a-b03c-a6f1a261933e",
   "metadata": {},
   "outputs": [],
   "source": [
    "#eine neue Variable zu generieren, die 1 ist, wenn der Fahrpreis über dem Median war, \n",
    "#und 0, falls der Fahrpreis unter dem Median war.\n",
    "m<-median(df$Fare)\n",
    "df$above_median<-as.numeric(df$Fare>m)\n"
   ]
  },
  {
   "cell_type": "code",
   "execution_count": 29,
   "id": "e38868fd-5960-4d6b-97d9-437df3d56dbd",
   "metadata": {},
   "outputs": [
    {
     "data": {
      "text/html": [
       "<dl class=dl-horizontal>\n",
       "\t<dt>0</dt>\n",
       "\t\t<dd>0.250559284116331</dd>\n",
       "\t<dt>1</dt>\n",
       "\t\t<dd>0.518018018018018</dd>\n",
       "</dl>\n"
      ],
      "text/latex": [
       "\\begin{description*}\n",
       "\\item[0] 0.250559284116331\n",
       "\\item[1] 0.518018018018018\n",
       "\\end{description*}\n"
      ],
      "text/markdown": [
       "0\n",
       ":   0.2505592841163311\n",
       ":   0.518018018018018\n",
       "\n"
      ],
      "text/plain": [
       "        0         1 \n",
       "0.2505593 0.5180180 "
      ]
     },
     "metadata": {},
     "output_type": "display_data"
    }
   ],
   "source": [
    "# Anteil Überlebender nach gruppiertem Fahrpreis:\n",
    "tapply(df$Survived,df$above_median,FUN=mean)\n"
   ]
  },
  {
   "cell_type": "code",
   "execution_count": 40,
   "id": "f4840441-a83a-4a6e-a2cc-7ff5aec5afe4",
   "metadata": {},
   "outputs": [],
   "source": [
    "#eine neue Variable zu generieren, die 1 ist, wenn das Alter der jeweiligen Beobachtung vorhanden ist\n",
    "#und ansonsten den Wert 0 annimmt\n",
    "df$Alter_bekannt<-as.numeric(!is.na(df$Age))\n"
   ]
  },
  {
   "cell_type": "code",
   "execution_count": 39,
   "id": "6c01b1dd-4a62-42e6-ba9b-d6cd15bc9846",
   "metadata": {},
   "outputs": [
    {
     "data": {
      "text/html": [
       "<dl class=dl-horizontal>\n",
       "\t<dt>0</dt>\n",
       "\t\t<dd>0.293785310734463</dd>\n",
       "\t<dt>1</dt>\n",
       "\t\t<dd>0.406162464985994</dd>\n",
       "</dl>\n"
      ],
      "text/latex": [
       "\\begin{description*}\n",
       "\\item[0] 0.293785310734463\n",
       "\\item[1] 0.406162464985994\n",
       "\\end{description*}\n"
      ],
      "text/markdown": [
       "0\n",
       ":   0.2937853107344631\n",
       ":   0.406162464985994\n",
       "\n"
      ],
      "text/plain": [
       "        0         1 \n",
       "0.2937853 0.4061625 "
      ]
     },
     "metadata": {},
     "output_type": "display_data"
    }
   ],
   "source": [
    "#Anteil Überlebender nach Verfügbarkeit der Alters-Variablen:\n",
    "tapply(df$Survived,df$Alter_bekannt,mean)"
   ]
  },
  {
   "cell_type": "code",
   "execution_count": null,
   "id": "683b8a13-e01f-46e5-921b-a946817d156c",
   "metadata": {},
   "outputs": [],
   "source": []
  }
 ],
 "metadata": {
  "kernelspec": {
   "display_name": "R",
   "language": "R",
   "name": "ir"
  },
  "language_info": {
   "codemirror_mode": "r",
   "file_extension": ".r",
   "mimetype": "text/x-r-source",
   "name": "R",
   "pygments_lexer": "r",
   "version": "3.6.1"
  }
 },
 "nbformat": 4,
 "nbformat_minor": 5
}
